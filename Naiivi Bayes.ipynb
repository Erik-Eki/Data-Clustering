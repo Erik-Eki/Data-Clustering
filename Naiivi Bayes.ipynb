{
 "cells": [
  {
   "cell_type": "markdown",
   "metadata": {},
   "source": [
    "# Naivé Bayes\n",
    "\n",
    "## Loading adult_data"
   ]
  },
  {
   "cell_type": "code",
   "execution_count": 1,
   "metadata": {},
   "outputs": [],
   "source": [
    "%matplotlib inline"
   ]
  },
  {
   "cell_type": "code",
   "execution_count": 11,
   "metadata": {},
   "outputs": [
    {
     "data": {
      "text/html": [
       "<div>\n",
       "<style scoped>\n",
       "    .dataframe tbody tr th:only-of-type {\n",
       "        vertical-align: middle;\n",
       "    }\n",
       "\n",
       "    .dataframe tbody tr th {\n",
       "        vertical-align: top;\n",
       "    }\n",
       "\n",
       "    .dataframe thead th {\n",
       "        text-align: right;\n",
       "    }\n",
       "</style>\n",
       "<table border=\"1\" class=\"dataframe\">\n",
       "  <thead>\n",
       "    <tr style=\"text-align: right;\">\n",
       "      <th></th>\n",
       "      <th>Age</th>\n",
       "      <th>Workclass</th>\n",
       "      <th>fnlwgt</th>\n",
       "      <th>Education</th>\n",
       "      <th>Education-num</th>\n",
       "      <th>Marital Status</th>\n",
       "      <th>Occupation</th>\n",
       "      <th>Relationship</th>\n",
       "      <th>Race</th>\n",
       "      <th>Sex</th>\n",
       "      <th>Capital-gain</th>\n",
       "      <th>Capital-loss</th>\n",
       "      <th>Hours-per-week</th>\n",
       "      <th>Native-country</th>\n",
       "      <th>Annual Income</th>\n",
       "    </tr>\n",
       "  </thead>\n",
       "  <tbody>\n",
       "    <tr>\n",
       "      <th>0</th>\n",
       "      <td>50</td>\n",
       "      <td>Self-emp-not-inc</td>\n",
       "      <td>83311</td>\n",
       "      <td>Bachelors</td>\n",
       "      <td>13</td>\n",
       "      <td>Married-civ-spouse</td>\n",
       "      <td>Exec-managerial</td>\n",
       "      <td>Husband</td>\n",
       "      <td>White</td>\n",
       "      <td>Male</td>\n",
       "      <td>0</td>\n",
       "      <td>0</td>\n",
       "      <td>13</td>\n",
       "      <td>United-States</td>\n",
       "      <td>&lt;=50K</td>\n",
       "    </tr>\n",
       "    <tr>\n",
       "      <th>1</th>\n",
       "      <td>38</td>\n",
       "      <td>Private</td>\n",
       "      <td>215646</td>\n",
       "      <td>HS-grad</td>\n",
       "      <td>9</td>\n",
       "      <td>Divorced</td>\n",
       "      <td>Handlers-cleaners</td>\n",
       "      <td>Not-in-family</td>\n",
       "      <td>White</td>\n",
       "      <td>Male</td>\n",
       "      <td>0</td>\n",
       "      <td>0</td>\n",
       "      <td>40</td>\n",
       "      <td>United-States</td>\n",
       "      <td>&lt;=50K</td>\n",
       "    </tr>\n",
       "    <tr>\n",
       "      <th>2</th>\n",
       "      <td>53</td>\n",
       "      <td>Private</td>\n",
       "      <td>234721</td>\n",
       "      <td>11th</td>\n",
       "      <td>7</td>\n",
       "      <td>Married-civ-spouse</td>\n",
       "      <td>Handlers-cleaners</td>\n",
       "      <td>Husband</td>\n",
       "      <td>Black</td>\n",
       "      <td>Male</td>\n",
       "      <td>0</td>\n",
       "      <td>0</td>\n",
       "      <td>40</td>\n",
       "      <td>United-States</td>\n",
       "      <td>&lt;=50K</td>\n",
       "    </tr>\n",
       "    <tr>\n",
       "      <th>3</th>\n",
       "      <td>28</td>\n",
       "      <td>Private</td>\n",
       "      <td>338409</td>\n",
       "      <td>Bachelors</td>\n",
       "      <td>13</td>\n",
       "      <td>Married-civ-spouse</td>\n",
       "      <td>Prof-specialty</td>\n",
       "      <td>Wife</td>\n",
       "      <td>Black</td>\n",
       "      <td>Female</td>\n",
       "      <td>0</td>\n",
       "      <td>0</td>\n",
       "      <td>40</td>\n",
       "      <td>Cuba</td>\n",
       "      <td>&lt;=50K</td>\n",
       "    </tr>\n",
       "    <tr>\n",
       "      <th>4</th>\n",
       "      <td>37</td>\n",
       "      <td>Private</td>\n",
       "      <td>284582</td>\n",
       "      <td>Masters</td>\n",
       "      <td>14</td>\n",
       "      <td>Married-civ-spouse</td>\n",
       "      <td>Exec-managerial</td>\n",
       "      <td>Wife</td>\n",
       "      <td>White</td>\n",
       "      <td>Female</td>\n",
       "      <td>0</td>\n",
       "      <td>0</td>\n",
       "      <td>40</td>\n",
       "      <td>United-States</td>\n",
       "      <td>&lt;=50K</td>\n",
       "    </tr>\n",
       "  </tbody>\n",
       "</table>\n",
       "</div>"
      ],
      "text/plain": [
       "   Age          Workclass  fnlwgt   Education  Education-num  \\\n",
       "0   50   Self-emp-not-inc   83311   Bachelors             13   \n",
       "1   38            Private  215646     HS-grad              9   \n",
       "2   53            Private  234721        11th              7   \n",
       "3   28            Private  338409   Bachelors             13   \n",
       "4   37            Private  284582     Masters             14   \n",
       "\n",
       "        Marital Status          Occupation    Relationship    Race      Sex  \\\n",
       "0   Married-civ-spouse     Exec-managerial         Husband   White     Male   \n",
       "1             Divorced   Handlers-cleaners   Not-in-family   White     Male   \n",
       "2   Married-civ-spouse   Handlers-cleaners         Husband   Black     Male   \n",
       "3   Married-civ-spouse      Prof-specialty            Wife   Black   Female   \n",
       "4   Married-civ-spouse     Exec-managerial            Wife   White   Female   \n",
       "\n",
       "   Capital-gain  Capital-loss  Hours-per-week  Native-country Annual Income  \n",
       "0             0             0              13   United-States         <=50K  \n",
       "1             0             0              40   United-States         <=50K  \n",
       "2             0             0              40   United-States         <=50K  \n",
       "3             0             0              40            Cuba         <=50K  \n",
       "4             0             0              40   United-States         <=50K  "
      ]
     },
     "execution_count": 11,
     "metadata": {},
     "output_type": "execute_result"
    }
   ],
   "source": [
    "import pandas as pd\n",
    "import numpy as np\n",
    "\n",
    "data = pd.read_csv(\"adult_data.csv\")\n",
    "\n",
    "data.head()"
   ]
  },
  {
   "cell_type": "code",
   "execution_count": 12,
   "metadata": {},
   "outputs": [
    {
     "data": {
      "text/plain": [
       "(32560, 15)"
      ]
     },
     "execution_count": 12,
     "metadata": {},
     "output_type": "execute_result"
    }
   ],
   "source": [
    "data.shape"
   ]
  },
  {
   "cell_type": "markdown",
   "metadata": {},
   "source": [
    "## Preprocessing"
   ]
  },
  {
   "cell_type": "code",
   "execution_count": 116,
   "metadata": {},
   "outputs": [],
   "source": [
    "dataset = data.drop(['fnlwgt', 'Education', 'Relationship', 'Race', 'Sex'], axis=1)"
   ]
  },
  {
   "cell_type": "code",
   "execution_count": 5,
   "metadata": {},
   "outputs": [
    {
     "name": "stdout",
     "output_type": "stream",
     "text": [
      "Age                  0\n",
      "Workclass         1836\n",
      "Education-num        0\n",
      "Marital Status       0\n",
      "Occupation        1843\n",
      "Capital-gain         0\n",
      "Capital-loss         0\n",
      "Hours-per-week       0\n",
      "Native-country     583\n",
      "Annual Income        0\n",
      "dtype: int64\n"
     ]
    }
   ],
   "source": [
    "# Check null values\n",
    "missing_count = dataset.isnull().sum()\n",
    "print(missing_count)"
   ]
  },
  {
   "cell_type": "code",
   "execution_count": 21,
   "metadata": {},
   "outputs": [
    {
     "name": "stdout",
     "output_type": "stream",
     "text": [
      "1.31 %\n"
     ]
    }
   ],
   "source": [
    "# Percentage of missing values\n",
    "total_data = np.product(dataset.shape)\n",
    "total_missing = missing_count.sum()\n",
    "percentage = (total_missing/total_data) * 100\n",
    "# Rounding by 2 decimals for the sake of readability\n",
    "print(round(percentage, 2),'%')"
   ]
  },
  {
   "cell_type": "markdown",
   "metadata": {},
   "source": [
    "## Convert the qualitative values to their numeric representations. \n",
    "\n",
    "---\n",
    "\n",
    "#### There are 3 ways of doing this:\n",
    "\n",
    "### Version 1: Manual\n",
    "\n",
    "Note: This is horrible to do."
   ]
  },
  {
   "cell_type": "code",
   "execution_count": 7,
   "metadata": {
    "jupyter": {
     "source_hidden": true
    }
   },
   "outputs": [
    {
     "data": {
      "text/html": [
       "<div>\n",
       "<style scoped>\n",
       "    .dataframe tbody tr th:only-of-type {\n",
       "        vertical-align: middle;\n",
       "    }\n",
       "\n",
       "    .dataframe tbody tr th {\n",
       "        vertical-align: top;\n",
       "    }\n",
       "\n",
       "    .dataframe thead th {\n",
       "        text-align: right;\n",
       "    }\n",
       "</style>\n",
       "<table border=\"1\" class=\"dataframe\">\n",
       "  <thead>\n",
       "    <tr style=\"text-align: right;\">\n",
       "      <th></th>\n",
       "      <th>Age</th>\n",
       "      <th>Workclass</th>\n",
       "      <th>Education-num</th>\n",
       "      <th>Marital Status</th>\n",
       "      <th>Occupation</th>\n",
       "      <th>Capital-gain</th>\n",
       "      <th>Capital-loss</th>\n",
       "      <th>Hours-per-week</th>\n",
       "      <th>Native-country</th>\n",
       "      <th>Annual Income</th>\n",
       "    </tr>\n",
       "  </thead>\n",
       "  <tbody>\n",
       "    <tr>\n",
       "      <th>20</th>\n",
       "      <td>54</td>\n",
       "      <td>Private</td>\n",
       "      <td>9</td>\n",
       "      <td>Separated</td>\n",
       "      <td>Other-service</td>\n",
       "      <td>0</td>\n",
       "      <td>0</td>\n",
       "      <td>20</td>\n",
       "      <td>United-States</td>\n",
       "      <td>&lt;=50K</td>\n",
       "    </tr>\n",
       "    <tr>\n",
       "      <th>21</th>\n",
       "      <td>35</td>\n",
       "      <td>Federal-gov</td>\n",
       "      <td>5</td>\n",
       "      <td>Married-civ-spouse</td>\n",
       "      <td>Farming-fishing</td>\n",
       "      <td>0</td>\n",
       "      <td>0</td>\n",
       "      <td>40</td>\n",
       "      <td>United-States</td>\n",
       "      <td>&lt;=50K</td>\n",
       "    </tr>\n",
       "    <tr>\n",
       "      <th>22</th>\n",
       "      <td>43</td>\n",
       "      <td>Private</td>\n",
       "      <td>7</td>\n",
       "      <td>Married-civ-spouse</td>\n",
       "      <td>Transport-moving</td>\n",
       "      <td>0</td>\n",
       "      <td>2042</td>\n",
       "      <td>40</td>\n",
       "      <td>United-States</td>\n",
       "      <td>&lt;=50K</td>\n",
       "    </tr>\n",
       "    <tr>\n",
       "      <th>23</th>\n",
       "      <td>59</td>\n",
       "      <td>Private</td>\n",
       "      <td>9</td>\n",
       "      <td>Divorced</td>\n",
       "      <td>Tech-support</td>\n",
       "      <td>0</td>\n",
       "      <td>0</td>\n",
       "      <td>40</td>\n",
       "      <td>United-States</td>\n",
       "      <td>&lt;=50K</td>\n",
       "    </tr>\n",
       "    <tr>\n",
       "      <th>24</th>\n",
       "      <td>56</td>\n",
       "      <td>Local-gov</td>\n",
       "      <td>13</td>\n",
       "      <td>Married-civ-spouse</td>\n",
       "      <td>Tech-support</td>\n",
       "      <td>0</td>\n",
       "      <td>0</td>\n",
       "      <td>40</td>\n",
       "      <td>United-States</td>\n",
       "      <td>&gt;50K</td>\n",
       "    </tr>\n",
       "  </tbody>\n",
       "</table>\n",
       "</div>"
      ],
      "text/plain": [
       "    Age     Workclass  Education-num       Marital Status         Occupation  \\\n",
       "20   54       Private              9            Separated      Other-service   \n",
       "21   35   Federal-gov              5   Married-civ-spouse    Farming-fishing   \n",
       "22   43       Private              7   Married-civ-spouse   Transport-moving   \n",
       "23   59       Private              9             Divorced       Tech-support   \n",
       "24   56     Local-gov             13   Married-civ-spouse       Tech-support   \n",
       "\n",
       "    Capital-gain  Capital-loss  Hours-per-week  Native-country Annual Income  \n",
       "20             0             0              20   United-States         <=50K  \n",
       "21             0             0              40   United-States         <=50K  \n",
       "22             0          2042              40   United-States         <=50K  \n",
       "23             0             0              40   United-States         <=50K  \n",
       "24             0             0              40   United-States          >50K  "
      ]
     },
     "execution_count": 7,
     "metadata": {},
     "output_type": "execute_result"
    }
   ],
   "source": [
    "# Filling nulls with 0\n",
    "dataset = pd.DataFrame(dataset.fillna(0))\n",
    "dataset[20:25]"
   ]
  },
  {
   "cell_type": "code",
   "execution_count": 8,
   "metadata": {
    "jupyter": {
     "source_hidden": true
    }
   },
   "outputs": [
    {
     "name": "stdout",
     "output_type": "stream",
     "text": [
      "Unique values in 'Workclass': [' Self-emp-not-inc' ' Private' ' State-gov' ' Federal-gov' ' Local-gov' 0\n",
      " ' Self-emp-inc' ' Without-pay' ' Never-worked']\n",
      "Unique values in 'Education': [' Married-civ-spouse' ' Divorced' ' Married-spouse-absent'\n",
      " ' Never-married' ' Separated' ' Married-AF-spouse' ' Widowed']\n",
      "Unique values in 'Occupation': [' Exec-managerial' ' Handlers-cleaners' ' Prof-specialty'\n",
      " ' Other-service' ' Adm-clerical' ' Sales' ' Craft-repair'\n",
      " ' Transport-moving' ' Farming-fishing' ' Machine-op-inspct'\n",
      " ' Tech-support' 0 ' Protective-serv' ' Armed-Forces' ' Priv-house-serv']\n",
      "Unique values in 'Native-country': [' United-States' ' Cuba' ' Jamaica' ' India' 0 ' Mexico' ' South'\n",
      " ' Puerto-Rico' ' Honduras' ' England' ' Canada' ' Germany' ' Iran'\n",
      " ' Philippines' ' Italy' ' Poland' ' Columbia' ' Cambodia' ' Thailand'\n",
      " ' Ecuador' ' Laos' ' Taiwan' ' Haiti' ' Portugal' ' Dominican-Republic'\n",
      " ' El-Salvador' ' France' ' Guatemala' ' China' ' Japan' ' Yugoslavia'\n",
      " ' Peru' ' Outlying-US(Guam-USVI-etc)' ' Scotland' ' Trinadad&Tobago'\n",
      " ' Greece' ' Nicaragua' ' Vietnam' ' Hong' ' Ireland' ' Hungary'\n",
      " ' Holand-Netherlands']\n",
      "Unique values in 'Annual Income': [' <=50K' ' >50K']\n"
     ]
    },
    {
     "data": {
      "text/html": [
       "<div>\n",
       "<style scoped>\n",
       "    .dataframe tbody tr th:only-of-type {\n",
       "        vertical-align: middle;\n",
       "    }\n",
       "\n",
       "    .dataframe tbody tr th {\n",
       "        vertical-align: top;\n",
       "    }\n",
       "\n",
       "    .dataframe thead th {\n",
       "        text-align: right;\n",
       "    }\n",
       "</style>\n",
       "<table border=\"1\" class=\"dataframe\">\n",
       "  <thead>\n",
       "    <tr style=\"text-align: right;\">\n",
       "      <th></th>\n",
       "      <th>Age</th>\n",
       "      <th>Workclass</th>\n",
       "      <th>Education-num</th>\n",
       "      <th>Marital Status</th>\n",
       "      <th>Occupation</th>\n",
       "      <th>Capital-gain</th>\n",
       "      <th>Capital-loss</th>\n",
       "      <th>Hours-per-week</th>\n",
       "      <th>Native-country</th>\n",
       "      <th>Annual Income</th>\n",
       "    </tr>\n",
       "  </thead>\n",
       "  <tbody>\n",
       "    <tr>\n",
       "      <th>10</th>\n",
       "      <td>30</td>\n",
       "      <td>2</td>\n",
       "      <td>13</td>\n",
       "      <td>1</td>\n",
       "      <td>3</td>\n",
       "      <td>0</td>\n",
       "      <td>0</td>\n",
       "      <td>40</td>\n",
       "      <td>4</td>\n",
       "      <td>1</td>\n",
       "    </tr>\n",
       "    <tr>\n",
       "      <th>11</th>\n",
       "      <td>23</td>\n",
       "      <td>1</td>\n",
       "      <td>13</td>\n",
       "      <td>0</td>\n",
       "      <td>5</td>\n",
       "      <td>0</td>\n",
       "      <td>0</td>\n",
       "      <td>30</td>\n",
       "      <td>1</td>\n",
       "      <td>0</td>\n",
       "    </tr>\n",
       "    <tr>\n",
       "      <th>12</th>\n",
       "      <td>32</td>\n",
       "      <td>1</td>\n",
       "      <td>12</td>\n",
       "      <td>0</td>\n",
       "      <td>6</td>\n",
       "      <td>0</td>\n",
       "      <td>0</td>\n",
       "      <td>50</td>\n",
       "      <td>1</td>\n",
       "      <td>0</td>\n",
       "    </tr>\n",
       "    <tr>\n",
       "      <th>13</th>\n",
       "      <td>40</td>\n",
       "      <td>1</td>\n",
       "      <td>11</td>\n",
       "      <td>1</td>\n",
       "      <td>7</td>\n",
       "      <td>0</td>\n",
       "      <td>0</td>\n",
       "      <td>40</td>\n",
       "      <td>0</td>\n",
       "      <td>1</td>\n",
       "    </tr>\n",
       "    <tr>\n",
       "      <th>14</th>\n",
       "      <td>34</td>\n",
       "      <td>1</td>\n",
       "      <td>4</td>\n",
       "      <td>1</td>\n",
       "      <td>8</td>\n",
       "      <td>0</td>\n",
       "      <td>0</td>\n",
       "      <td>45</td>\n",
       "      <td>5</td>\n",
       "      <td>0</td>\n",
       "    </tr>\n",
       "    <tr>\n",
       "      <th>15</th>\n",
       "      <td>25</td>\n",
       "      <td>5</td>\n",
       "      <td>9</td>\n",
       "      <td>0</td>\n",
       "      <td>9</td>\n",
       "      <td>0</td>\n",
       "      <td>0</td>\n",
       "      <td>35</td>\n",
       "      <td>1</td>\n",
       "      <td>0</td>\n",
       "    </tr>\n",
       "    <tr>\n",
       "      <th>16</th>\n",
       "      <td>32</td>\n",
       "      <td>1</td>\n",
       "      <td>9</td>\n",
       "      <td>0</td>\n",
       "      <td>10</td>\n",
       "      <td>0</td>\n",
       "      <td>0</td>\n",
       "      <td>40</td>\n",
       "      <td>1</td>\n",
       "      <td>0</td>\n",
       "    </tr>\n",
       "    <tr>\n",
       "      <th>17</th>\n",
       "      <td>38</td>\n",
       "      <td>1</td>\n",
       "      <td>7</td>\n",
       "      <td>1</td>\n",
       "      <td>6</td>\n",
       "      <td>0</td>\n",
       "      <td>0</td>\n",
       "      <td>50</td>\n",
       "      <td>1</td>\n",
       "      <td>0</td>\n",
       "    </tr>\n",
       "    <tr>\n",
       "      <th>18</th>\n",
       "      <td>43</td>\n",
       "      <td>5</td>\n",
       "      <td>14</td>\n",
       "      <td>5</td>\n",
       "      <td>1</td>\n",
       "      <td>0</td>\n",
       "      <td>0</td>\n",
       "      <td>45</td>\n",
       "      <td>1</td>\n",
       "      <td>1</td>\n",
       "    </tr>\n",
       "    <tr>\n",
       "      <th>19</th>\n",
       "      <td>40</td>\n",
       "      <td>1</td>\n",
       "      <td>16</td>\n",
       "      <td>1</td>\n",
       "      <td>3</td>\n",
       "      <td>0</td>\n",
       "      <td>0</td>\n",
       "      <td>60</td>\n",
       "      <td>1</td>\n",
       "      <td>1</td>\n",
       "    </tr>\n",
       "  </tbody>\n",
       "</table>\n",
       "</div>"
      ],
      "text/plain": [
       "    Age  Workclass  Education-num  Marital Status  Occupation  Capital-gain  \\\n",
       "10   30          2             13               1           3             0   \n",
       "11   23          1             13               0           5             0   \n",
       "12   32          1             12               0           6             0   \n",
       "13   40          1             11               1           7             0   \n",
       "14   34          1              4               1           8             0   \n",
       "15   25          5              9               0           9             0   \n",
       "16   32          1              9               0          10             0   \n",
       "17   38          1              7               1           6             0   \n",
       "18   43          5             14               5           1             0   \n",
       "19   40          1             16               1           3             0   \n",
       "\n",
       "    Capital-loss  Hours-per-week  Native-country  Annual Income  \n",
       "10             0              40               4              1  \n",
       "11             0              30               1              0  \n",
       "12             0              50               1              0  \n",
       "13             0              40               0              1  \n",
       "14             0              45               5              0  \n",
       "15             0              35               1              0  \n",
       "16             0              40               1              0  \n",
       "17             0              50               1              0  \n",
       "18             0              45               1              1  \n",
       "19             0              60               1              1  "
      ]
     },
     "execution_count": 8,
     "metadata": {},
     "output_type": "execute_result"
    }
   ],
   "source": [
    "print(\"Unique values in 'Workclass':\",dataset['Workclass'].unique())\n",
    "\n",
    "dataset = dataset.replace([' Private', ' State-gov', ' Federal-gov', ' Local-gov',\n",
    "                        ' Self-emp-not-inc', ' Self-emp-inc', ' Without-pay', ' Never-worked', None],\n",
    "                       [1, 2, 3, 4, 5, 6, 7, 8, 0])\n",
    "\n",
    "print(\"Unique values in 'Education':\",dataset['Marital Status'].unique())\n",
    "\n",
    "\n",
    "dataset = dataset.replace([' Married-civ-spouse', ' Married-AF-spouse', ' Married-spouse-absent',\n",
    "                           ' Separated', ' Divorced', ' Widowed', ' Never-married'],\n",
    "                         [1, 2 ,3, 4, 5, 6, 0])\n",
    "\n",
    "print(\"Unique values in 'Occupation':\",dataset['Occupation'].unique())\n",
    "dataset = dataset.replace([' Exec-managerial', ' Handlers-cleaners', ' Prof-specialty',\n",
    "                           ' Other-service', ' Adm-clerical', ' Sales', ' Craft-repair',\n",
    "                           ' Transport-moving', ' Farming-fishing', ' Machine-op-inspct',\n",
    "                           ' Tech-support', ' Protective-serv', ' Armed-Forces', ' Priv-house-serv'],\n",
    "                          [1, 2, 3, 4, 5, 6, 7, 8, 9, 10, 11, 12, 13, 14])\n",
    "\n",
    "\n",
    "num_list = [*range(1,41)]\n",
    "print(\"Unique values in 'Native-country':\",dataset['Native-country'].unique())\n",
    "dataset = dataset.replace([' United-States', ' Cuba', ' Jamaica', ' India', ' Mexico', ' South',\n",
    " ' Puerto-Rico', ' Honduras', ' England', ' Canada', ' Germany', ' Iran',\n",
    " ' Philippines', ' Italy', ' Poland', ' Columbia', ' Cambodia', ' Thailand',\n",
    " ' Ecuador', ' Laos', ' Taiwan', ' Haiti', ' Portugal', ' Dominican-Republic',\n",
    " ' El-Salvador', ' France', ' Guatemala', ' China', ' Japan', ' Yugoslavia',\n",
    " ' Peru', ' Outlying-US(Guam-USVI-etc)', ' Scotland', ' Trinadad&Tobago',\n",
    " ' Greece', ' Nicaragua', ' Vietnam' ' Hong', ' Ireland', ' Hungary',\n",
    " ' Holand-Netherlands'], [i for i in num_list])\n",
    "\n",
    "dataset = dataset.replace([ \" Vietnam\", \" Hong\"],[37, 38])\n",
    "\n",
    "print(\"Unique values in 'Annual Income':\",dataset['Annual Income'].unique())\n",
    "\n",
    "dataset = dataset.replace([\" <=50K\", \" >50K\"],[0,1])\n",
    "\n",
    "\n",
    "dataset[10:20]"
   ]
  },
  {
   "cell_type": "markdown",
   "metadata": {},
   "source": [
    "### Version 2: Pandas get_dummies\n",
    "\n",
    "Note: This is quite horrible due to getting absurd amount of columns"
   ]
  },
  {
   "cell_type": "code",
   "execution_count": 32,
   "metadata": {
    "collapsed": true,
    "jupyter": {
     "outputs_hidden": true,
     "source_hidden": true
    }
   },
   "outputs": [
    {
     "data": {
      "text/html": [
       "<div>\n",
       "<style scoped>\n",
       "    .dataframe tbody tr th:only-of-type {\n",
       "        vertical-align: middle;\n",
       "    }\n",
       "\n",
       "    .dataframe tbody tr th {\n",
       "        vertical-align: top;\n",
       "    }\n",
       "\n",
       "    .dataframe thead th {\n",
       "        text-align: right;\n",
       "    }\n",
       "</style>\n",
       "<table border=\"1\" class=\"dataframe\">\n",
       "  <thead>\n",
       "    <tr style=\"text-align: right;\">\n",
       "      <th></th>\n",
       "      <th>Age</th>\n",
       "      <th>Workclass</th>\n",
       "      <th>Education-num</th>\n",
       "      <th>Marital Status</th>\n",
       "      <th>Occupation</th>\n",
       "      <th>Capital-gain</th>\n",
       "      <th>Capital-loss</th>\n",
       "      <th>Hours-per-week</th>\n",
       "      <th>Native-country</th>\n",
       "      <th>Annual Income</th>\n",
       "    </tr>\n",
       "  </thead>\n",
       "  <tbody>\n",
       "    <tr>\n",
       "      <th>0</th>\n",
       "      <td>50</td>\n",
       "      <td>Self-emp-not-inc</td>\n",
       "      <td>13</td>\n",
       "      <td>Married-civ-spouse</td>\n",
       "      <td>Exec-managerial</td>\n",
       "      <td>0</td>\n",
       "      <td>0</td>\n",
       "      <td>13</td>\n",
       "      <td>United-States</td>\n",
       "      <td>&lt;=50K</td>\n",
       "    </tr>\n",
       "    <tr>\n",
       "      <th>1</th>\n",
       "      <td>38</td>\n",
       "      <td>Private</td>\n",
       "      <td>9</td>\n",
       "      <td>Divorced</td>\n",
       "      <td>Handlers-cleaners</td>\n",
       "      <td>0</td>\n",
       "      <td>0</td>\n",
       "      <td>40</td>\n",
       "      <td>United-States</td>\n",
       "      <td>&lt;=50K</td>\n",
       "    </tr>\n",
       "    <tr>\n",
       "      <th>2</th>\n",
       "      <td>53</td>\n",
       "      <td>Private</td>\n",
       "      <td>7</td>\n",
       "      <td>Married-civ-spouse</td>\n",
       "      <td>Handlers-cleaners</td>\n",
       "      <td>0</td>\n",
       "      <td>0</td>\n",
       "      <td>40</td>\n",
       "      <td>United-States</td>\n",
       "      <td>&lt;=50K</td>\n",
       "    </tr>\n",
       "    <tr>\n",
       "      <th>3</th>\n",
       "      <td>28</td>\n",
       "      <td>Private</td>\n",
       "      <td>13</td>\n",
       "      <td>Married-civ-spouse</td>\n",
       "      <td>Prof-specialty</td>\n",
       "      <td>0</td>\n",
       "      <td>0</td>\n",
       "      <td>40</td>\n",
       "      <td>Cuba</td>\n",
       "      <td>&lt;=50K</td>\n",
       "    </tr>\n",
       "    <tr>\n",
       "      <th>4</th>\n",
       "      <td>37</td>\n",
       "      <td>Private</td>\n",
       "      <td>14</td>\n",
       "      <td>Married-civ-spouse</td>\n",
       "      <td>Exec-managerial</td>\n",
       "      <td>0</td>\n",
       "      <td>0</td>\n",
       "      <td>40</td>\n",
       "      <td>United-States</td>\n",
       "      <td>&lt;=50K</td>\n",
       "    </tr>\n",
       "  </tbody>\n",
       "</table>\n",
       "</div>"
      ],
      "text/plain": [
       "   Age          Workclass  Education-num       Marital Status  \\\n",
       "0   50   Self-emp-not-inc             13   Married-civ-spouse   \n",
       "1   38            Private              9             Divorced   \n",
       "2   53            Private              7   Married-civ-spouse   \n",
       "3   28            Private             13   Married-civ-spouse   \n",
       "4   37            Private             14   Married-civ-spouse   \n",
       "\n",
       "           Occupation  Capital-gain  Capital-loss  Hours-per-week  \\\n",
       "0     Exec-managerial             0             0              13   \n",
       "1   Handlers-cleaners             0             0              40   \n",
       "2   Handlers-cleaners             0             0              40   \n",
       "3      Prof-specialty             0             0              40   \n",
       "4     Exec-managerial             0             0              40   \n",
       "\n",
       "   Native-country Annual Income  \n",
       "0   United-States         <=50K  \n",
       "1   United-States         <=50K  \n",
       "2   United-States         <=50K  \n",
       "3            Cuba         <=50K  \n",
       "4   United-States         <=50K  "
      ]
     },
     "execution_count": 32,
     "metadata": {},
     "output_type": "execute_result"
    }
   ],
   "source": [
    "data = pd.read_csv(\"adult_data.csv\")\n",
    "\n",
    "dataset = data.drop(['fnlwgt', 'Education', 'Relationship', 'Race', 'Sex'], axis=1)\n",
    "\n",
    "# Filling nulls with 0\n",
    "dataset = pd.DataFrame(dataset.fillna(0))\n",
    "dataset[20:25]\n",
    "\n",
    "dataset.head()"
   ]
  },
  {
   "cell_type": "code",
   "execution_count": 33,
   "metadata": {
    "collapsed": true,
    "jupyter": {
     "outputs_hidden": true,
     "source_hidden": true
    }
   },
   "outputs": [
    {
     "name": "stdout",
     "output_type": "stream",
     "text": [
      "Unique values in 'Workclass':\n",
      " [' Self-emp-not-inc' ' Private' ' State-gov' ' Federal-gov' ' Local-gov' 0\n",
      " ' Self-emp-inc' ' Without-pay' ' Never-worked']\n",
      "\n",
      "Unique values in 'Marital Status':\n",
      " [' Married-civ-spouse' ' Divorced' ' Married-spouse-absent'\n",
      " ' Never-married' ' Separated' ' Married-AF-spouse' ' Widowed']\n",
      "\n",
      "Unique values in 'Occupation':\n",
      " [' Exec-managerial' ' Handlers-cleaners' ' Prof-specialty'\n",
      " ' Other-service' ' Adm-clerical' ' Sales' ' Craft-repair'\n",
      " ' Transport-moving' ' Farming-fishing' ' Machine-op-inspct'\n",
      " ' Tech-support' 0 ' Protective-serv' ' Armed-Forces' ' Priv-house-serv']\n",
      "\n",
      "Unique values in 'Native-country':\n",
      " [' United-States' ' Cuba' ' Jamaica' ' India' 0 ' Mexico' ' South'\n",
      " ' Puerto-Rico' ' Honduras' ' England' ' Canada' ' Germany' ' Iran'\n",
      " ' Philippines' ' Italy' ' Poland' ' Columbia' ' Cambodia' ' Thailand'\n",
      " ' Ecuador' ' Laos' ' Taiwan' ' Haiti' ' Portugal' ' Dominican-Republic'\n",
      " ' El-Salvador' ' France' ' Guatemala' ' China' ' Japan' ' Yugoslavia'\n",
      " ' Peru' ' Outlying-US(Guam-USVI-etc)' ' Scotland' ' Trinadad&Tobago'\n",
      " ' Greece' ' Nicaragua' ' Vietnam' ' Hong' ' Ireland' ' Hungary'\n",
      " ' Holand-Netherlands']\n",
      "\n",
      "Unique values in 'Annual Income':\n",
      " [' <=50K' ' >50K']\n"
     ]
    }
   ],
   "source": [
    "print(\"Unique values in 'Workclass':\\n\",dataset['Workclass'].unique())\n",
    "print(\"\\nUnique values in 'Marital Status':\\n\",dataset['Marital Status'].unique())\n",
    "print(\"\\nUnique values in 'Occupation':\\n\",dataset['Occupation'].unique())\n",
    "print(\"\\nUnique values in 'Native-country':\\n\",dataset['Native-country'].unique())\n",
    "print(\"\\nUnique values in 'Annual Income':\\n\",dataset['Annual Income'].unique())"
   ]
  },
  {
   "cell_type": "markdown",
   "metadata": {},
   "source": [
    "#### Create dummy variables with 0/1 values for each possible value a.k.a. One hot encoding."
   ]
  },
  {
   "cell_type": "code",
   "execution_count": 34,
   "metadata": {
    "jupyter": {
     "source_hidden": true
    }
   },
   "outputs": [
    {
     "data": {
      "text/html": [
       "<div>\n",
       "<style scoped>\n",
       "    .dataframe tbody tr th:only-of-type {\n",
       "        vertical-align: middle;\n",
       "    }\n",
       "\n",
       "    .dataframe tbody tr th {\n",
       "        vertical-align: top;\n",
       "    }\n",
       "\n",
       "    .dataframe thead th {\n",
       "        text-align: right;\n",
       "    }\n",
       "</style>\n",
       "<table border=\"1\" class=\"dataframe\">\n",
       "  <thead>\n",
       "    <tr style=\"text-align: right;\">\n",
       "      <th></th>\n",
       "      <th>Age</th>\n",
       "      <th>Education-num</th>\n",
       "      <th>Capital-gain</th>\n",
       "      <th>Capital-loss</th>\n",
       "      <th>Hours-per-week</th>\n",
       "      <th>Workclass_0</th>\n",
       "      <th>Workclass_ Federal-gov</th>\n",
       "      <th>Workclass_ Local-gov</th>\n",
       "      <th>Workclass_ Never-worked</th>\n",
       "      <th>Workclass_ Private</th>\n",
       "      <th>...</th>\n",
       "      <th>Native-country_ Puerto-Rico</th>\n",
       "      <th>Native-country_ Scotland</th>\n",
       "      <th>Native-country_ South</th>\n",
       "      <th>Native-country_ Taiwan</th>\n",
       "      <th>Native-country_ Thailand</th>\n",
       "      <th>Native-country_ Trinadad&amp;Tobago</th>\n",
       "      <th>Native-country_ United-States</th>\n",
       "      <th>Native-country_ Vietnam</th>\n",
       "      <th>Native-country_ Yugoslavia</th>\n",
       "      <th>Annual Income</th>\n",
       "    </tr>\n",
       "  </thead>\n",
       "  <tbody>\n",
       "    <tr>\n",
       "      <th>0</th>\n",
       "      <td>50</td>\n",
       "      <td>13</td>\n",
       "      <td>0</td>\n",
       "      <td>0</td>\n",
       "      <td>13</td>\n",
       "      <td>0</td>\n",
       "      <td>0</td>\n",
       "      <td>0</td>\n",
       "      <td>0</td>\n",
       "      <td>0</td>\n",
       "      <td>...</td>\n",
       "      <td>0</td>\n",
       "      <td>0</td>\n",
       "      <td>0</td>\n",
       "      <td>0</td>\n",
       "      <td>0</td>\n",
       "      <td>0</td>\n",
       "      <td>1</td>\n",
       "      <td>0</td>\n",
       "      <td>0</td>\n",
       "      <td>0</td>\n",
       "    </tr>\n",
       "    <tr>\n",
       "      <th>1</th>\n",
       "      <td>38</td>\n",
       "      <td>9</td>\n",
       "      <td>0</td>\n",
       "      <td>0</td>\n",
       "      <td>40</td>\n",
       "      <td>0</td>\n",
       "      <td>0</td>\n",
       "      <td>0</td>\n",
       "      <td>0</td>\n",
       "      <td>1</td>\n",
       "      <td>...</td>\n",
       "      <td>0</td>\n",
       "      <td>0</td>\n",
       "      <td>0</td>\n",
       "      <td>0</td>\n",
       "      <td>0</td>\n",
       "      <td>0</td>\n",
       "      <td>1</td>\n",
       "      <td>0</td>\n",
       "      <td>0</td>\n",
       "      <td>0</td>\n",
       "    </tr>\n",
       "    <tr>\n",
       "      <th>2</th>\n",
       "      <td>53</td>\n",
       "      <td>7</td>\n",
       "      <td>0</td>\n",
       "      <td>0</td>\n",
       "      <td>40</td>\n",
       "      <td>0</td>\n",
       "      <td>0</td>\n",
       "      <td>0</td>\n",
       "      <td>0</td>\n",
       "      <td>1</td>\n",
       "      <td>...</td>\n",
       "      <td>0</td>\n",
       "      <td>0</td>\n",
       "      <td>0</td>\n",
       "      <td>0</td>\n",
       "      <td>0</td>\n",
       "      <td>0</td>\n",
       "      <td>1</td>\n",
       "      <td>0</td>\n",
       "      <td>0</td>\n",
       "      <td>0</td>\n",
       "    </tr>\n",
       "    <tr>\n",
       "      <th>3</th>\n",
       "      <td>28</td>\n",
       "      <td>13</td>\n",
       "      <td>0</td>\n",
       "      <td>0</td>\n",
       "      <td>40</td>\n",
       "      <td>0</td>\n",
       "      <td>0</td>\n",
       "      <td>0</td>\n",
       "      <td>0</td>\n",
       "      <td>1</td>\n",
       "      <td>...</td>\n",
       "      <td>0</td>\n",
       "      <td>0</td>\n",
       "      <td>0</td>\n",
       "      <td>0</td>\n",
       "      <td>0</td>\n",
       "      <td>0</td>\n",
       "      <td>0</td>\n",
       "      <td>0</td>\n",
       "      <td>0</td>\n",
       "      <td>0</td>\n",
       "    </tr>\n",
       "    <tr>\n",
       "      <th>4</th>\n",
       "      <td>37</td>\n",
       "      <td>14</td>\n",
       "      <td>0</td>\n",
       "      <td>0</td>\n",
       "      <td>40</td>\n",
       "      <td>0</td>\n",
       "      <td>0</td>\n",
       "      <td>0</td>\n",
       "      <td>0</td>\n",
       "      <td>1</td>\n",
       "      <td>...</td>\n",
       "      <td>0</td>\n",
       "      <td>0</td>\n",
       "      <td>0</td>\n",
       "      <td>0</td>\n",
       "      <td>0</td>\n",
       "      <td>0</td>\n",
       "      <td>1</td>\n",
       "      <td>0</td>\n",
       "      <td>0</td>\n",
       "      <td>0</td>\n",
       "    </tr>\n",
       "  </tbody>\n",
       "</table>\n",
       "<p>5 rows × 79 columns</p>\n",
       "</div>"
      ],
      "text/plain": [
       "   Age  Education-num  Capital-gain  Capital-loss  Hours-per-week  \\\n",
       "0   50             13             0             0              13   \n",
       "1   38              9             0             0              40   \n",
       "2   53              7             0             0              40   \n",
       "3   28             13             0             0              40   \n",
       "4   37             14             0             0              40   \n",
       "\n",
       "   Workclass_0  Workclass_ Federal-gov  Workclass_ Local-gov  \\\n",
       "0            0                       0                     0   \n",
       "1            0                       0                     0   \n",
       "2            0                       0                     0   \n",
       "3            0                       0                     0   \n",
       "4            0                       0                     0   \n",
       "\n",
       "   Workclass_ Never-worked  Workclass_ Private  ...  \\\n",
       "0                        0                   0  ...   \n",
       "1                        0                   1  ...   \n",
       "2                        0                   1  ...   \n",
       "3                        0                   1  ...   \n",
       "4                        0                   1  ...   \n",
       "\n",
       "   Native-country_ Puerto-Rico  Native-country_ Scotland  \\\n",
       "0                            0                         0   \n",
       "1                            0                         0   \n",
       "2                            0                         0   \n",
       "3                            0                         0   \n",
       "4                            0                         0   \n",
       "\n",
       "   Native-country_ South  Native-country_ Taiwan  Native-country_ Thailand  \\\n",
       "0                      0                       0                         0   \n",
       "1                      0                       0                         0   \n",
       "2                      0                       0                         0   \n",
       "3                      0                       0                         0   \n",
       "4                      0                       0                         0   \n",
       "\n",
       "   Native-country_ Trinadad&Tobago  Native-country_ United-States  \\\n",
       "0                                0                              1   \n",
       "1                                0                              1   \n",
       "2                                0                              1   \n",
       "3                                0                              0   \n",
       "4                                0                              1   \n",
       "\n",
       "   Native-country_ Vietnam  Native-country_ Yugoslavia  Annual Income  \n",
       "0                        0                           0              0  \n",
       "1                        0                           0              0  \n",
       "2                        0                           0              0  \n",
       "3                        0                           0              0  \n",
       "4                        0                           0              0  \n",
       "\n",
       "[5 rows x 79 columns]"
      ]
     },
     "execution_count": 34,
     "metadata": {},
     "output_type": "execute_result"
    }
   ],
   "source": [
    "dataset_dummy = pd.get_dummies(dataset)\n",
    "dataset_dummy = dataset_dummy.drop(['Annual Income_ <=50K', 'Annual Income_ >50K'], axis=1)\n",
    "dataset_dummy['Annual Income'] = dataset['Annual Income']\n",
    "dataset_dummy = dataset_dummy.replace([\" <=50K\", \" >50K\"],[0,1])\n",
    "dataset_dummy.head()"
   ]
  },
  {
   "cell_type": "markdown",
   "metadata": {},
   "source": [
    "---\n",
    "\n",
    "## Version 3: Skicit-learn LabelEncoder\n",
    "\n",
    "### This is what we're using:"
   ]
  },
  {
   "cell_type": "code",
   "execution_count": 163,
   "metadata": {},
   "outputs": [
    {
     "data": {
      "text/html": [
       "<div>\n",
       "<style scoped>\n",
       "    .dataframe tbody tr th:only-of-type {\n",
       "        vertical-align: middle;\n",
       "    }\n",
       "\n",
       "    .dataframe tbody tr th {\n",
       "        vertical-align: top;\n",
       "    }\n",
       "\n",
       "    .dataframe thead th {\n",
       "        text-align: right;\n",
       "    }\n",
       "</style>\n",
       "<table border=\"1\" class=\"dataframe\">\n",
       "  <thead>\n",
       "    <tr style=\"text-align: right;\">\n",
       "      <th></th>\n",
       "      <th>Age</th>\n",
       "      <th>Workclass</th>\n",
       "      <th>Education-num</th>\n",
       "      <th>Marital Status</th>\n",
       "      <th>Occupation</th>\n",
       "      <th>Capital-gain</th>\n",
       "      <th>Capital-loss</th>\n",
       "      <th>Hours-per-week</th>\n",
       "      <th>Native-country</th>\n",
       "      <th>Annual Income</th>\n",
       "    </tr>\n",
       "  </thead>\n",
       "  <tbody>\n",
       "    <tr>\n",
       "      <th>0</th>\n",
       "      <td>50</td>\n",
       "      <td>Self-emp-not-inc</td>\n",
       "      <td>13</td>\n",
       "      <td>Married-civ-spouse</td>\n",
       "      <td>Exec-managerial</td>\n",
       "      <td>0</td>\n",
       "      <td>0</td>\n",
       "      <td>13</td>\n",
       "      <td>United-States</td>\n",
       "      <td>&lt;=50K</td>\n",
       "    </tr>\n",
       "    <tr>\n",
       "      <th>1</th>\n",
       "      <td>38</td>\n",
       "      <td>Private</td>\n",
       "      <td>9</td>\n",
       "      <td>Divorced</td>\n",
       "      <td>Handlers-cleaners</td>\n",
       "      <td>0</td>\n",
       "      <td>0</td>\n",
       "      <td>40</td>\n",
       "      <td>United-States</td>\n",
       "      <td>&lt;=50K</td>\n",
       "    </tr>\n",
       "    <tr>\n",
       "      <th>2</th>\n",
       "      <td>53</td>\n",
       "      <td>Private</td>\n",
       "      <td>7</td>\n",
       "      <td>Married-civ-spouse</td>\n",
       "      <td>Handlers-cleaners</td>\n",
       "      <td>0</td>\n",
       "      <td>0</td>\n",
       "      <td>40</td>\n",
       "      <td>United-States</td>\n",
       "      <td>&lt;=50K</td>\n",
       "    </tr>\n",
       "    <tr>\n",
       "      <th>3</th>\n",
       "      <td>28</td>\n",
       "      <td>Private</td>\n",
       "      <td>13</td>\n",
       "      <td>Married-civ-spouse</td>\n",
       "      <td>Prof-specialty</td>\n",
       "      <td>0</td>\n",
       "      <td>0</td>\n",
       "      <td>40</td>\n",
       "      <td>Cuba</td>\n",
       "      <td>&lt;=50K</td>\n",
       "    </tr>\n",
       "    <tr>\n",
       "      <th>4</th>\n",
       "      <td>37</td>\n",
       "      <td>Private</td>\n",
       "      <td>14</td>\n",
       "      <td>Married-civ-spouse</td>\n",
       "      <td>Exec-managerial</td>\n",
       "      <td>0</td>\n",
       "      <td>0</td>\n",
       "      <td>40</td>\n",
       "      <td>United-States</td>\n",
       "      <td>&lt;=50K</td>\n",
       "    </tr>\n",
       "  </tbody>\n",
       "</table>\n",
       "</div>"
      ],
      "text/plain": [
       "   Age          Workclass  Education-num       Marital Status  \\\n",
       "0   50   Self-emp-not-inc             13   Married-civ-spouse   \n",
       "1   38            Private              9             Divorced   \n",
       "2   53            Private              7   Married-civ-spouse   \n",
       "3   28            Private             13   Married-civ-spouse   \n",
       "4   37            Private             14   Married-civ-spouse   \n",
       "\n",
       "           Occupation  Capital-gain  Capital-loss  Hours-per-week  \\\n",
       "0     Exec-managerial             0             0              13   \n",
       "1   Handlers-cleaners             0             0              40   \n",
       "2   Handlers-cleaners             0             0              40   \n",
       "3      Prof-specialty             0             0              40   \n",
       "4     Exec-managerial             0             0              40   \n",
       "\n",
       "   Native-country Annual Income  \n",
       "0   United-States         <=50K  \n",
       "1   United-States         <=50K  \n",
       "2   United-States         <=50K  \n",
       "3            Cuba         <=50K  \n",
       "4   United-States         <=50K  "
      ]
     },
     "execution_count": 163,
     "metadata": {},
     "output_type": "execute_result"
    }
   ],
   "source": [
    "dataset = data.drop(['fnlwgt', 'Education', 'Relationship', 'Race', 'Sex'], axis=1)\n",
    "\n",
    "# Create temporary dataset for holding in the original meaning of the values we're about to change\n",
    "dataset_temp = dataset\n",
    "dataset_temp.head()"
   ]
  },
  {
   "cell_type": "code",
   "execution_count": 165,
   "metadata": {},
   "outputs": [
    {
     "data": {
      "text/html": [
       "<div>\n",
       "<style scoped>\n",
       "    .dataframe tbody tr th:only-of-type {\n",
       "        vertical-align: middle;\n",
       "    }\n",
       "\n",
       "    .dataframe tbody tr th {\n",
       "        vertical-align: top;\n",
       "    }\n",
       "\n",
       "    .dataframe thead th {\n",
       "        text-align: right;\n",
       "    }\n",
       "</style>\n",
       "<table border=\"1\" class=\"dataframe\">\n",
       "  <thead>\n",
       "    <tr style=\"text-align: right;\">\n",
       "      <th></th>\n",
       "      <th>Age</th>\n",
       "      <th>Workclass</th>\n",
       "      <th>Education-num</th>\n",
       "      <th>Marital Status</th>\n",
       "      <th>Occupation</th>\n",
       "      <th>Capital-gain</th>\n",
       "      <th>Capital-loss</th>\n",
       "      <th>Hours-per-week</th>\n",
       "      <th>Native-country</th>\n",
       "      <th>Annual Income</th>\n",
       "    </tr>\n",
       "  </thead>\n",
       "  <tbody>\n",
       "    <tr>\n",
       "      <th>0</th>\n",
       "      <td>50</td>\n",
       "      <td>5</td>\n",
       "      <td>13</td>\n",
       "      <td>2</td>\n",
       "      <td>3</td>\n",
       "      <td>0</td>\n",
       "      <td>0</td>\n",
       "      <td>13</td>\n",
       "      <td>38</td>\n",
       "      <td>0</td>\n",
       "    </tr>\n",
       "    <tr>\n",
       "      <th>1</th>\n",
       "      <td>38</td>\n",
       "      <td>3</td>\n",
       "      <td>9</td>\n",
       "      <td>0</td>\n",
       "      <td>5</td>\n",
       "      <td>0</td>\n",
       "      <td>0</td>\n",
       "      <td>40</td>\n",
       "      <td>38</td>\n",
       "      <td>0</td>\n",
       "    </tr>\n",
       "    <tr>\n",
       "      <th>2</th>\n",
       "      <td>53</td>\n",
       "      <td>3</td>\n",
       "      <td>7</td>\n",
       "      <td>2</td>\n",
       "      <td>5</td>\n",
       "      <td>0</td>\n",
       "      <td>0</td>\n",
       "      <td>40</td>\n",
       "      <td>38</td>\n",
       "      <td>0</td>\n",
       "    </tr>\n",
       "    <tr>\n",
       "      <th>3</th>\n",
       "      <td>28</td>\n",
       "      <td>3</td>\n",
       "      <td>13</td>\n",
       "      <td>2</td>\n",
       "      <td>9</td>\n",
       "      <td>0</td>\n",
       "      <td>0</td>\n",
       "      <td>40</td>\n",
       "      <td>4</td>\n",
       "      <td>0</td>\n",
       "    </tr>\n",
       "    <tr>\n",
       "      <th>4</th>\n",
       "      <td>37</td>\n",
       "      <td>3</td>\n",
       "      <td>14</td>\n",
       "      <td>2</td>\n",
       "      <td>3</td>\n",
       "      <td>0</td>\n",
       "      <td>0</td>\n",
       "      <td>40</td>\n",
       "      <td>38</td>\n",
       "      <td>0</td>\n",
       "    </tr>\n",
       "    <tr>\n",
       "      <th>5</th>\n",
       "      <td>49</td>\n",
       "      <td>3</td>\n",
       "      <td>5</td>\n",
       "      <td>3</td>\n",
       "      <td>7</td>\n",
       "      <td>0</td>\n",
       "      <td>0</td>\n",
       "      <td>16</td>\n",
       "      <td>22</td>\n",
       "      <td>0</td>\n",
       "    </tr>\n",
       "    <tr>\n",
       "      <th>6</th>\n",
       "      <td>52</td>\n",
       "      <td>5</td>\n",
       "      <td>9</td>\n",
       "      <td>2</td>\n",
       "      <td>3</td>\n",
       "      <td>0</td>\n",
       "      <td>0</td>\n",
       "      <td>45</td>\n",
       "      <td>38</td>\n",
       "      <td>1</td>\n",
       "    </tr>\n",
       "    <tr>\n",
       "      <th>7</th>\n",
       "      <td>31</td>\n",
       "      <td>3</td>\n",
       "      <td>14</td>\n",
       "      <td>4</td>\n",
       "      <td>9</td>\n",
       "      <td>14084</td>\n",
       "      <td>0</td>\n",
       "      <td>50</td>\n",
       "      <td>38</td>\n",
       "      <td>1</td>\n",
       "    </tr>\n",
       "    <tr>\n",
       "      <th>8</th>\n",
       "      <td>42</td>\n",
       "      <td>3</td>\n",
       "      <td>13</td>\n",
       "      <td>2</td>\n",
       "      <td>3</td>\n",
       "      <td>5178</td>\n",
       "      <td>0</td>\n",
       "      <td>40</td>\n",
       "      <td>38</td>\n",
       "      <td>1</td>\n",
       "    </tr>\n",
       "    <tr>\n",
       "      <th>9</th>\n",
       "      <td>37</td>\n",
       "      <td>3</td>\n",
       "      <td>10</td>\n",
       "      <td>2</td>\n",
       "      <td>3</td>\n",
       "      <td>0</td>\n",
       "      <td>0</td>\n",
       "      <td>80</td>\n",
       "      <td>38</td>\n",
       "      <td>1</td>\n",
       "    </tr>\n",
       "  </tbody>\n",
       "</table>\n",
       "</div>"
      ],
      "text/plain": [
       "   Age  Workclass  Education-num  Marital Status  Occupation  Capital-gain  \\\n",
       "0   50          5             13               2           3             0   \n",
       "1   38          3              9               0           5             0   \n",
       "2   53          3              7               2           5             0   \n",
       "3   28          3             13               2           9             0   \n",
       "4   37          3             14               2           3             0   \n",
       "5   49          3              5               3           7             0   \n",
       "6   52          5              9               2           3             0   \n",
       "7   31          3             14               4           9         14084   \n",
       "8   42          3             13               2           3          5178   \n",
       "9   37          3             10               2           3             0   \n",
       "\n",
       "   Capital-loss  Hours-per-week  Native-country  Annual Income  \n",
       "0             0              13              38              0  \n",
       "1             0              40              38              0  \n",
       "2             0              40              38              0  \n",
       "3             0              40               4              0  \n",
       "4             0              40              38              0  \n",
       "5             0              16              22              0  \n",
       "6             0              45              38              1  \n",
       "7             0              50              38              1  \n",
       "8             0              40              38              1  \n",
       "9             0              80              38              1  "
      ]
     },
     "execution_count": 165,
     "metadata": {},
     "output_type": "execute_result"
    }
   ],
   "source": [
    "from sklearn import preprocessing\n",
    "\n",
    "# LabelEncoder requires all the values in a column to be string or int. If there is 0 in a named column, or None, it throws and error.\n",
    "dataset = pd.DataFrame(dataset.fillna(\"None\"))\n",
    "\n",
    "# Initiolize lists for the changed elements, were gonna use these later\n",
    "workclass = []\n",
    "occupation = []\n",
    "native_country = []\n",
    "le_test = []\n",
    "\n",
    "def encode_features(df_train):\n",
    "    features = ['Workclass', 'Marital Status', 'Occupation', 'Native-country', 'Annual Income']\n",
    "    df_combined = pd.concat([df_train[features]])\n",
    "    \n",
    "    for feature in features:\n",
    "        le = preprocessing.LabelEncoder()\n",
    "        le = le.fit(df_combined[feature])\n",
    "        \n",
    "        le_test.append(list(set(le.transform(df_train[feature]))))\n",
    "        \n",
    "        df_train[feature] = le.transform(df_train[feature])\n",
    "    return df_train\n",
    "    \n",
    "dataset = encode_features(dataset)\n",
    "\n",
    "dataset.head(10)"
   ]
  },
  {
   "cell_type": "markdown",
   "metadata": {},
   "source": [
    "### Note:\n",
    "\n",
    "- \"<=50K\" = 0\n",
    "- \">50K\" = 1"
   ]
  },
  {
   "cell_type": "markdown",
   "metadata": {},
   "source": [
    "All of this is for later use."
   ]
  },
  {
   "cell_type": "code",
   "execution_count": 168,
   "metadata": {},
   "outputs": [
    {
     "name": "stdout",
     "output_type": "stream",
     "text": [
      "Workclass:  [(' Self-emp-not-inc', 0), (' Private', 1), (' State-gov', 2), (' Federal-gov', 3), (' Local-gov', 4), (nan, 5), (' Self-emp-inc', 6), (' Without-pay', 7), (' Never-worked', 8), (' Self-emp-not-inc', 0), (' Private', 1), (' State-gov', 2), (' Federal-gov', 3), (' Local-gov', 4), (nan, 5), (' Self-emp-inc', 6), (' Without-pay', 7), (' Never-worked', 8), (' Self-emp-not-inc', 0), (' Private', 1), (' State-gov', 2), (' Federal-gov', 3), (' Local-gov', 4), (nan, 5), (' Self-emp-inc', 6), (' Without-pay', 7), (' Never-worked', 8)] \n",
      "\n",
      "Occupation:  [(' Exec-managerial', 0), (' Handlers-cleaners', 1), (' Prof-specialty', 2), (' Other-service', 3), (' Adm-clerical', 4), (' Sales', 5), (' Craft-repair', 6), (' Transport-moving', 7), (' Farming-fishing', 8), (' Machine-op-inspct', 9), (' Tech-support', 10), (nan, 11), (' Protective-serv', 12), (' Armed-Forces', 13), (' Priv-house-serv', 14), (' Exec-managerial', 0), (' Handlers-cleaners', 1), (' Prof-specialty', 2), (' Other-service', 3), (' Adm-clerical', 4), (' Sales', 5), (' Craft-repair', 6), (' Transport-moving', 7), (' Farming-fishing', 8), (' Machine-op-inspct', 9), (' Tech-support', 10), (nan, 11), (' Protective-serv', 12), (' Armed-Forces', 13), (' Priv-house-serv', 14), (' Exec-managerial', 0), (' Handlers-cleaners', 1), (' Prof-specialty', 2), (' Other-service', 3), (' Adm-clerical', 4), (' Sales', 5), (' Craft-repair', 6), (' Transport-moving', 7), (' Farming-fishing', 8), (' Machine-op-inspct', 9), (' Tech-support', 10), (nan, 11), (' Protective-serv', 12), (' Armed-Forces', 13), (' Priv-house-serv', 14)] \n",
      "\n",
      "Native-country:  [(' United-States', 0), (' Cuba', 1), (' Jamaica', 2), (' India', 3), (nan, 4), (' Mexico', 5), (' South', 6), (' Puerto-Rico', 7), (' Honduras', 8), (' England', 9), (' Canada', 10), (' Germany', 11), (' Iran', 12), (' Philippines', 13), (' Italy', 14), (' Poland', 15), (' Columbia', 16), (' Cambodia', 17), (' Thailand', 18), (' Ecuador', 19), (' Laos', 20), (' Taiwan', 21), (' Haiti', 22), (' Portugal', 23), (' Dominican-Republic', 24), (' El-Salvador', 25), (' France', 26), (' Guatemala', 27), (' China', 28), (' Japan', 29), (' Yugoslavia', 30), (' Peru', 31), (' Outlying-US(Guam-USVI-etc)', 32), (' Scotland', 33), (' Trinadad&Tobago', 34), (' Greece', 35), (' Nicaragua', 36), (' Vietnam', 37), (' Hong', 38), (' Ireland', 39), (' Hungary', 40), (' Holand-Netherlands', 41), (' United-States', 0), (' Cuba', 1), (' Jamaica', 2), (' India', 3), (nan, 4), (' Mexico', 5), (' South', 6), (' Puerto-Rico', 7), (' Honduras', 8), (' England', 9), (' Canada', 10), (' Germany', 11), (' Iran', 12), (' Philippines', 13), (' Italy', 14), (' Poland', 15), (' Columbia', 16), (' Cambodia', 17), (' Thailand', 18), (' Ecuador', 19), (' Laos', 20), (' Taiwan', 21), (' Haiti', 22), (' Portugal', 23), (' Dominican-Republic', 24), (' El-Salvador', 25), (' France', 26), (' Guatemala', 27), (' China', 28), (' Japan', 29), (' Yugoslavia', 30), (' Peru', 31), (' Outlying-US(Guam-USVI-etc)', 32), (' Scotland', 33), (' Trinadad&Tobago', 34), (' Greece', 35), (' Nicaragua', 36), (' Vietnam', 37), (' Hong', 38), (' Ireland', 39), (' Hungary', 40), (' Holand-Netherlands', 41), (' United-States', 0), (' Cuba', 1), (' Jamaica', 2), (' India', 3), (nan, 4), (' Mexico', 5), (' South', 6), (' Puerto-Rico', 7), (' Honduras', 8), (' England', 9), (' Canada', 10), (' Germany', 11), (' Iran', 12), (' Philippines', 13), (' Italy', 14), (' Poland', 15), (' Columbia', 16), (' Cambodia', 17), (' Thailand', 18), (' Ecuador', 19), (' Laos', 20), (' Taiwan', 21), (' Haiti', 22), (' Portugal', 23), (' Dominican-Republic', 24), (' El-Salvador', 25), (' France', 26), (' Guatemala', 27), (' China', 28), (' Japan', 29), (' Yugoslavia', 30), (' Peru', 31), (' Outlying-US(Guam-USVI-etc)', 32), (' Scotland', 33), (' Trinadad&Tobago', 34), (' Greece', 35), (' Nicaragua', 36), (' Vietnam', 37), (' Hong', 38), (' Ireland', 39), (' Hungary', 40), (' Holand-Netherlands', 41)]\n"
     ]
    }
   ],
   "source": [
    "for i in zip(list(dataset_temp['Workclass'].unique()), le_test[0]):\n",
    "    workclass.append(i)\n",
    "print(\"Workclass: \",workclass,\"\\n\")\n",
    "\n",
    "for j in zip(list(dataset_temp['Occupation'].unique()), le_test[2]):\n",
    "    occupation.append(j)\n",
    "print(\"Occupation: \",occupation,\"\\n\")\n",
    "\n",
    "for k in zip(list(dataset_temp['Native-country'].unique()), le_test[3]):\n",
    "    native_country.append(k)\n",
    "print(\"Native-country: \",native_country)"
   ]
  },
  {
   "cell_type": "markdown",
   "metadata": {},
   "source": [
    "## Mean values of each column"
   ]
  },
  {
   "cell_type": "code",
   "execution_count": 26,
   "metadata": {},
   "outputs": [
    {
     "name": "stdout",
     "output_type": "stream",
     "text": [
      "Age                 38.581634\n",
      "Workclass            3.376290\n",
      "Education-num       10.080590\n",
      "Marital Status       2.611794\n",
      "Occupation           6.421959\n",
      "Capital-gain      1077.615172\n",
      "Capital-loss        87.306511\n",
      "Hours-per-week      40.437469\n",
      "Native-country      36.470823\n",
      "Annual Income        0.240817\n",
      "dtype: float64 \n",
      "\n",
      "Age                 13.640432\n",
      "Workclass            1.581971\n",
      "Education-num        2.572669\n",
      "Marital Status       1.506202\n",
      "Occupation           4.328473\n",
      "Capital-gain      7385.289585\n",
      "Capital-loss       402.959928\n",
      "Hours-per-week      12.347428\n",
      "Native-country       6.083086\n",
      "Annual Income        0.427579\n",
      "dtype: float64\n"
     ]
    }
   ],
   "source": [
    "mean_1 = np.mean(dataset)\n",
    "std_1 =np.std(dataset)\n",
    "\n",
    "print(mean_1,\"\\n\")\n",
    "print(std_1)"
   ]
  },
  {
   "cell_type": "markdown",
   "metadata": {},
   "source": [
    "### Correlation matrix"
   ]
  },
  {
   "cell_type": "code",
   "execution_count": 27,
   "metadata": {},
   "outputs": [
    {
     "data": {
      "text/plain": [
       "<AxesSubplot:>"
      ]
     },
     "execution_count": 27,
     "metadata": {},
     "output_type": "execute_result"
    },
    {
     "data": {
      "image/png": "[encoded data removed]",
      "text/plain": [
       "<Figure size 432x288 with 2 Axes>"
      ]
     },
     "metadata": {
      "needs_background": "light"
     },
     "output_type": "display_data"
    }
   ],
   "source": [
    "import seaborn as sns \n",
    "\n",
    "correlation_matrix = dataset.corr().round(2)\n",
    "sns.heatmap(data=correlation_matrix, annot=True)"
   ]
  },
  {
   "cell_type": "markdown",
   "metadata": {},
   "source": [
    "## Outliers"
   ]
  },
  {
   "cell_type": "code",
   "execution_count": 68,
   "metadata": {},
   "outputs": [
    {
     "name": "stdout",
     "output_type": "stream",
     "text": [
      "Amount of outliers in Age:  121\n",
      "Percentage of the outliers related to the table:  0.04 %\n",
      "\n",
      "Amount of outliers in Workclass:  0\n",
      "Percentage of the outliers related to the table:  0.0 %\n",
      "\n",
      "Amount of outliers in Education-num:  219\n",
      "Percentage of the outliers related to the table:  0.07 %\n",
      "\n",
      "Amount of outliers in Marital Status:  0\n",
      "Percentage of the outliers related to the table:  0.0 %\n",
      "\n",
      "Amount of outliers in Occupation:  0\n",
      "Percentage of the outliers related to the table:  0.0 %\n",
      "\n",
      "Amount of outliers in Capital-gain:  215\n",
      "Percentage of the outliers related to the table:  0.07 %\n",
      "\n",
      "Amount of outliers in Capital-loss:  1470\n",
      "Percentage of the outliers related to the table:  0.45 %\n",
      "\n",
      "Amount of outliers in Hours-per-week:  440\n",
      "Percentage of the outliers related to the table:  0.14 %\n",
      "\n",
      "Amount of outliers in Native-country:  1113\n",
      "Percentage of the outliers related to the table:  0.34 %\n",
      "\n",
      "Amount of outliers in Annual Income:  0\n",
      "Percentage of the outliers related to the table:  0.0 %\n",
      "\n",
      "Total outliers in table:  1.1 %\n"
     ]
    }
   ],
   "source": [
    "outliers=[]\n",
    "def detect_outlier(data_1):\n",
    "    \n",
    "    threshold=3\n",
    "    mean_1 = np.mean(data_1)\n",
    "    std_1 = np.std(data_1)\n",
    "    \n",
    "    \n",
    "    for y in data_1:\n",
    "        z_score = (y - mean_1)/std_1 \n",
    "        if np.abs(z_score) > threshold:\n",
    "            outliers.append(y)\n",
    "    return outliers\n",
    "\n",
    "total_percentage = 0\n",
    "\n",
    "for i in dataset:\n",
    "    outlier_datapoints = detect_outlier(dataset[i])\n",
    "    print(f\"Amount of outliers in {i}:  {len(outlier_datapoints)}\")\n",
    "\n",
    "    total_data = np.product(dataset.shape)\n",
    "    total_outliers = len(outlier_datapoints)\n",
    "    percentage = (total_outliers/total_data) * 100\n",
    "    print(\"Percentage of the outliers related to the table: \", round(percentage, 2),'%\\n')\n",
    "    total_percentage += percentage\n",
    "    outliers = []\n",
    "    \n",
    "print(\"Total outliers in table: \",round(total_percentage, 2),\"%\")\n",
    "\n",
    "#print(len(outlier_datapoints))"
   ]
  },
  {
   "cell_type": "markdown",
   "metadata": {},
   "source": [
    "### Because the outliers make up under 5% of the overall data, we don't have to manage them.\n",
    "\n",
    "---"
   ]
  },
  {
   "attachments": {
    "0e7bb5f8-3fa0-4e05-9b8c-3065c62bbe1b.png": {
     "image/png": "[encoded data removed]"
    },
    "e2662938-fc84-42c3-b73d-51752aa2beed.png": {
     "image/png": "[encoded data removed]"
    }
   },
   "cell_type": "markdown",
   "metadata": {},
   "source": [
    "# Naïve Bayes Algorithm\n",
    "\n",
    "In probability theory and statistics, Bayes's theorem (alternatively Bayes's law or Bayes's rule), named after Reverend Thomas Bayes, describes the probability of an event, based on prior knowledge of conditions that might be related to the event.\n",
    "\n",
    "![image.png](attachment:e2662938-fc84-42c3-b73d-51752aa2beed.png)\n",
    "\n",
    "Using Bayes theorem, we can find the probability of **A** happening, given that **B** has occurred. \n",
    "\n",
    "Here, **B** is the evidence and **A** is the hypothesis. \n",
    "\n",
    "- The assumption made here is that the predictors/features are independent. \n",
    "\n",
    "- That is presence of one particular feature does not affect the other. \n",
    "\n",
    "#### Hence it is called **naivé**.\n",
    "\n",
    "---\n",
    "\n",
    "#### It's easier if we change the values to fit this dataset:\n",
    "\n",
    "![image.png](attachment:0e7bb5f8-3fa0-4e05-9b8c-3065c62bbe1b.png)\n",
    "\n",
    "\n",
    "- Basically, we are trying to find **probability** of event **y**, given the event **X** is **true**. \n",
    "    - Event **X** is also termed as evidence.\n",
    "- **P(y)** is the **priori** of **y** (the prior probability, i.e. Probability of event before evidence is seen).\n",
    "    - The evidence is an attribute value of an unknown instance(here, it is event **X**).\n",
    "- **P(y/X)** is a **posteriori** probability of **X**, (i.e. probability of event after evidence is seen.)\n",
    "\n",
    "### Exercise 15: Applying the GaussianNB Algorithm\n",
    "\n",
    "---"
   ]
  },
  {
   "cell_type": "code",
   "execution_count": null,
   "metadata": {
    "jupyter": {
     "source_hidden": true
    }
   },
   "outputs": [],
   "source": [
    "dataset = pd.read_csv(\"fertility_Diagnosis.csv\", header=None)\n",
    "\n",
    "dataset.head()"
   ]
  },
  {
   "cell_type": "code",
   "execution_count": null,
   "metadata": {
    "jupyter": {
     "source_hidden": true
    }
   },
   "outputs": [],
   "source": [
    "# Split the data into X and Y, considering that the class label is found under the column with an index equal to 9.\n",
    "X = dataset.iloc[:,:9]\n",
    "Y = dataset.iloc[:,9]"
   ]
  },
  {
   "cell_type": "code",
   "execution_count": null,
   "metadata": {
    "jupyter": {
     "source_hidden": true
    }
   },
   "outputs": [],
   "source": [
    "from sklearn.naive_bayes import GaussianNB\n",
    "\n",
    "# Initializing Gaussian Naïve Bayes class\n",
    "model = GaussianNB()\n",
    "# Fit training data to train the model\n",
    "model.fit(X, Y)"
   ]
  },
  {
   "cell_type": "code",
   "execution_count": null,
   "metadata": {
    "jupyter": {
     "source_hidden": true
    }
   },
   "outputs": [],
   "source": [
    "# Perform a prediction using the model for a new instance with the following values for each feature:\n",
    "pred = model.predict([[-0.33,0.69,0,1,1,0,0.8,0,0.88]])\n",
    "print(pred)"
   ]
  },
  {
   "cell_type": "markdown",
   "metadata": {},
   "source": [
    "# Activity 11: Training a Naïve Bayes Model for Our Census Income Dataset\n",
    "\n",
    "1. Using the preprocessed Census Income Dataset, separate the features from the target by creating the variables X and Y.\n",
    "\n",
    "2. Divide the dataset into training, validation, and testing sets, using a split ratio of 10%.\n",
    "\n",
    "Note:\n",
    "\n",
    "When all three sets are created from the same dataset, it is not required to create\n",
    "an additional train/dev set to measure data mismatch. Moreover, note that it is\n",
    "OK to try a different split ratio, considering that the percentages explained in the\n",
    "previous chapter are not set in stone. Even though they tend to work well, it is\n",
    "important that you embrace experimentation in different levels when building\n",
    "machine learning models.\n",
    "\n",
    "3. Import the Gaussian Naïve Bayes class, and then use the fit method to train the odel over the training sets (X_train and _train).\n",
    "\n",
    "4. Finally, perform a prediction using the model that you trained previously, for a new nstance with the following values for each feature: 39, 6, 13, 4, 0, 2174, 0, 40, 38. he prediction for the individual should be equal to zero, meaning that the ndividual most likely has an income less than or equal to 50K."
   ]
  },
  {
   "cell_type": "code",
   "execution_count": 237,
   "metadata": {},
   "outputs": [
    {
     "name": "stdout",
     "output_type": "stream",
     "text": [
      "(32560, 9)\n",
      "(32560,)\n"
     ]
    }
   ],
   "source": [
    "X = dataset.iloc[:,:9]\n",
    "Y = dataset.iloc[:,9]\n",
    "\n",
    "print(X.shape)\n",
    "print(Y.shape)"
   ]
  },
  {
   "cell_type": "code",
   "execution_count": 238,
   "metadata": {},
   "outputs": [
    {
     "name": "stdout",
     "output_type": "stream",
     "text": [
      "Labels counts in y: [24719  7841]\n",
      "Labels counts in y_train: [22247  7057]\n",
      "Labels counts in y_test: [2472  784]\n"
     ]
    }
   ],
   "source": [
    "from sklearn.model_selection import train_test_split\n",
    "\n",
    "x_train, x_test, y_train, y_test = train_test_split(X, Y, test_size=0.1, random_state=1, stratify=Y)\n",
    "\n",
    "print('Labels counts in y: {}'.format(np.bincount(Y)))\n",
    "print('Labels counts in y_train:', np.bincount(y_train))\n",
    "print('Labels counts in y_test:', np.bincount(y_test))"
   ]
  },
  {
   "cell_type": "code",
   "execution_count": 246,
   "metadata": {},
   "outputs": [
    {
     "data": {
      "text/plain": [
       "GaussianNB()"
      ]
     },
     "execution_count": 246,
     "metadata": {},
     "output_type": "execute_result"
    }
   ],
   "source": [
    "from sklearn.naive_bayes import GaussianNB\n",
    "\n",
    "# Initializing Gaussian Naïve Bayes class\n",
    "model = GaussianNB()\n",
    "# Fit training data to train the model\n",
    "model.fit(x_train, y_train)"
   ]
  },
  {
   "cell_type": "code",
   "execution_count": 247,
   "metadata": {},
   "outputs": [
    {
     "name": "stdout",
     "output_type": "stream",
     "text": [
      "[0]\n"
     ]
    }
   ],
   "source": [
    "pred = model.predict([[39, 6, 13, 4, 0, 2174, 0, 40, 38.0]])\n",
    "print(pred)"
   ]
  },
  {
   "cell_type": "markdown",
   "metadata": {},
   "source": [
    "### The output being 0 means that the individual most likely has an income less than or equal to 50K."
   ]
  },
  {
   "cell_type": "markdown",
   "metadata": {},
   "source": [
    "# Pipeline & GridSearchCV"
   ]
  },
  {
   "cell_type": "code",
   "execution_count": 252,
   "metadata": {},
   "outputs": [
    {
     "data": {
      "text/plain": [
       "0.7982527982527983"
      ]
     },
     "execution_count": 252,
     "metadata": {},
     "output_type": "execute_result"
    }
   ],
   "source": [
    "from sklearn.pipeline import Pipeline\n",
    "from sklearn.preprocessing import StandardScaler\n",
    "\n",
    "pipeline = Pipeline([( \"scaler\" , StandardScaler()),\n",
    "                       (\"gaus\",GaussianNB())])\n",
    "\n",
    "pipeline.fit(x_train, y_train)\n",
    "pipeline.score(x_train, y_train)"
   ]
  },
  {
   "cell_type": "code",
   "execution_count": 261,
   "metadata": {},
   "outputs": [
    {
     "name": "stdout",
     "output_type": "stream",
     "text": [
      "dict_keys(['memory', 'steps', 'verbose', 'scaler', 'gaussian', 'scaler__copy', 'scaler__with_mean', 'scaler__with_std', 'gaussian__priors', 'gaussian__var_smoothing'])\n"
     ]
    },
    {
     "data": {
      "text/plain": [
       "GridSearchCV(cv=10,\n",
       "             estimator=Pipeline(steps=[('scaler', StandardScaler()),\n",
       "                                       ('gaussian', GaussianNB())]),\n",
       "             n_jobs=-1,\n",
       "             param_grid={'gaussian__var_smoothing': [1000000000, 1000000000000,\n",
       "                                                     800000000, 900000000,\n",
       "                                                     947345884]})"
      ]
     },
     "execution_count": 261,
     "metadata": {},
     "output_type": "execute_result"
    }
   ],
   "source": [
    "from sklearn.model_selection import GridSearchCV\n",
    "\n",
    "# The level of smoothing default if 1e-09\n",
    "\n",
    "'''Originally smoothing var just the rnums, 0-1 000 000 000, but jupyter kept crashing'''\n",
    "\n",
    "pipeline = Pipeline([(\"scaler\", StandardScaler()),\n",
    "                       (\"gaussian\", GaussianNB())])\n",
    "\n",
    "print(pipeline.get_params().keys())\n",
    "\n",
    "parameters = {'gaussian__var_smoothing':[1_000_000_000, 1_000_000_000_000, 800_000_000, 900_000_000, 947345884]}\n",
    "#grid_search = GridSearchCV(model_classifier, parameters, cv = 10, n_jobs=-1) \n",
    "grid_search = GridSearchCV(pipeline, parameters, cv = 10, n_jobs=-1)\n",
    "\n",
    "grid_search.fit(x_train, y_train)"
   ]
  },
  {
   "cell_type": "code",
   "execution_count": 262,
   "metadata": {},
   "outputs": [
    {
     "data": {
      "text/plain": [
       "{'gaussian__var_smoothing': 1000000000}"
      ]
     },
     "execution_count": 262,
     "metadata": {},
     "output_type": "execute_result"
    }
   ],
   "source": [
    "grid_search.best_params_"
   ]
  },
  {
   "cell_type": "markdown",
   "metadata": {},
   "source": [
    "Note :I did this earlier with value 0-1 000 000 000 and it gave me this value:\n",
    "\n",
    "**{'var_smoothing': 947345884}**\n",
    "\n",
    "#### So this is really the most optimal smoothing value\n",
    "\n",
    "### Accuracy score"
   ]
  },
  {
   "cell_type": "code",
   "execution_count": 81,
   "metadata": {},
   "outputs": [
    {
     "data": {
      "text/plain": [
       "0.7591796414228041"
      ]
     },
     "execution_count": 81,
     "metadata": {},
     "output_type": "execute_result"
    }
   ],
   "source": [
    "grid_search.best_score_"
   ]
  },
  {
   "cell_type": "code",
   "execution_count": 82,
   "metadata": {},
   "outputs": [
    {
     "data": {
      "text/plain": [
       "0.7592137592137592"
      ]
     },
     "execution_count": 82,
     "metadata": {},
     "output_type": "execute_result"
    }
   ],
   "source": [
    "from sklearn.metrics import accuracy_score\n",
    "\n",
    "y_pred = grid_search.predict(x_test)\n",
    "\n",
    "accuracy_score(y_test,y_pred)"
   ]
  },
  {
   "cell_type": "markdown",
   "metadata": {},
   "source": [
    "### So the accuracy of prediction of the model is about 76%\n",
    "\n",
    "## Doing a prediction\n",
    "\n",
    "- Trying to find **probability** of **'Annual Income'** being either **0** or **1**, given the  **Age** is **true**. \n",
    "- **P('Annual Income')** is the **priori** of **'Annual Income'** (the prior probability, i.e. Probability of event before evidence is seen).\n",
    "- **'Age'** is the evidence\n",
    "- **P('Annual Income'/'Age')** is a **posteriori** probability of **'Age'**, (i.e. probability of event after evidence is seen.)"
   ]
  },
  {
   "cell_type": "code",
   "execution_count": 284,
   "metadata": {},
   "outputs": [
    {
     "name": "stdout",
     "output_type": "stream",
     "text": [
      "[[' Self-emp-not-inc', 0], [' Private', 1], [' State-gov', 2], [' Federal-gov', 3], [' Local-gov', 4], [nan, 5], [' Self-emp-inc', 6], [' Without-pay', 7], [' Never-worked', 8], [' Self-emp-not-inc', 0], [' Private', 1], [' State-gov', 2], [' Federal-gov', 3], [' Local-gov', 4], [nan, 5], [' Self-emp-inc', 6], [' Without-pay', 7], [' Never-worked', 8], [' Self-emp-not-inc', 0], [' Private', 1], [' State-gov', 2], [' Federal-gov', 3], [' Local-gov', 4], [nan, 5], [' Self-emp-inc', 6], [' Without-pay', 7], [' Never-worked', 8]]\n",
      "[' Self-emp-not-inc', ' Private', ' State-gov', ' Federal-gov', ' Local-gov', nan, ' Self-emp-inc', ' Without-pay', ' Never-worked', ' Self-emp-not-inc', ' Private', ' State-gov', ' Federal-gov', ' Local-gov', nan, ' Self-emp-inc', ' Without-pay', ' Never-worked', ' Self-emp-not-inc', ' Private', ' State-gov', ' Federal-gov', ' Local-gov', nan, ' Self-emp-inc', ' Without-pay', ' Never-worked']\n",
      "[0, 1, 2, 3, 4, 5, 6, 7, 8, 0, 1, 2, 3, 4, 5, 6, 7, 8, 0, 1, 2, 3, 4, 5, 6, 7, 8]\n"
     ]
    },
    {
     "data": {
      "text/html": [
       "<div>\n",
       "<style scoped>\n",
       "    .dataframe tbody tr th:only-of-type {\n",
       "        vertical-align: middle;\n",
       "    }\n",
       "\n",
       "    .dataframe tbody tr th {\n",
       "        vertical-align: top;\n",
       "    }\n",
       "\n",
       "    .dataframe thead th {\n",
       "        text-align: right;\n",
       "    }\n",
       "</style>\n",
       "<table border=\"1\" class=\"dataframe\">\n",
       "  <thead>\n",
       "    <tr style=\"text-align: right;\">\n",
       "      <th></th>\n",
       "      <th>Workclass</th>\n",
       "      <th>Annual Income</th>\n",
       "    </tr>\n",
       "  </thead>\n",
       "  <tbody>\n",
       "    <tr>\n",
       "      <th>0</th>\n",
       "      <td>State-gov</td>\n",
       "      <td>0</td>\n",
       "    </tr>\n",
       "    <tr>\n",
       "      <th>1</th>\n",
       "      <td>Private</td>\n",
       "      <td>0</td>\n",
       "    </tr>\n",
       "    <tr>\n",
       "      <th>2</th>\n",
       "      <td>Private</td>\n",
       "      <td>0</td>\n",
       "    </tr>\n",
       "    <tr>\n",
       "      <th>3</th>\n",
       "      <td>Private</td>\n",
       "      <td>0</td>\n",
       "    </tr>\n",
       "    <tr>\n",
       "      <th>4</th>\n",
       "      <td>Private</td>\n",
       "      <td>0</td>\n",
       "    </tr>\n",
       "    <tr>\n",
       "      <th>5</th>\n",
       "      <td>Private</td>\n",
       "      <td>0</td>\n",
       "    </tr>\n",
       "    <tr>\n",
       "      <th>6</th>\n",
       "      <td>State-gov</td>\n",
       "      <td>0</td>\n",
       "    </tr>\n",
       "    <tr>\n",
       "      <th>7</th>\n",
       "      <td>Private</td>\n",
       "      <td>0</td>\n",
       "    </tr>\n",
       "    <tr>\n",
       "      <th>8</th>\n",
       "      <td>Private</td>\n",
       "      <td>0</td>\n",
       "    </tr>\n",
       "    <tr>\n",
       "      <th>9</th>\n",
       "      <td>Private</td>\n",
       "      <td>0</td>\n",
       "    </tr>\n",
       "  </tbody>\n",
       "</table>\n",
       "</div>"
      ],
      "text/plain": [
       "    Workclass  Annual Income\n",
       "0   State-gov              0\n",
       "1     Private              0\n",
       "2     Private              0\n",
       "3     Private              0\n",
       "4     Private              0\n",
       "5     Private              0\n",
       "6   State-gov              0\n",
       "7     Private              0\n",
       "8     Private              0\n",
       "9     Private              0"
      ]
     },
     "execution_count": 284,
     "metadata": {},
     "output_type": "execute_result"
    }
   ],
   "source": [
    "ids = dataset['Workclass']\n",
    "predictions = model.predict(dataset.drop('Workclass', axis=1))\n",
    "\n",
    "\n",
    "output = pd.DataFrame({ 'Workclass' : ids, 'Annual Income': predictions })\n",
    "\n",
    "lst = []\n",
    "test = []\n",
    "test_num = []\n",
    "for i in workclass:\n",
    "    lst.append(list(i))\n",
    "print(lst)\n",
    "\n",
    "for h in lst:\n",
    "    test.append(h[0])\n",
    "    test_num.append(h[1])\n",
    "print(test)\n",
    "print(test_num)\n",
    "\n",
    "output['Workclass'] = output['Workclass'].replace([e for e in set(test_num)], [f for f in set(test)])\n",
    "\n",
    "output.head(10)"
   ]
  },
  {
   "cell_type": "code",
   "execution_count": 89,
   "metadata": {
    "collapsed": true,
    "jupyter": {
     "outputs_hidden": true
    }
   },
   "outputs": [
    {
     "data": {
      "text/html": [
       "<div>\n",
       "<style scoped>\n",
       "    .dataframe tbody tr th:only-of-type {\n",
       "        vertical-align: middle;\n",
       "    }\n",
       "\n",
       "    .dataframe tbody tr th {\n",
       "        vertical-align: top;\n",
       "    }\n",
       "\n",
       "    .dataframe thead th {\n",
       "        text-align: right;\n",
       "    }\n",
       "</style>\n",
       "<table border=\"1\" class=\"dataframe\">\n",
       "  <thead>\n",
       "    <tr style=\"text-align: right;\">\n",
       "      <th></th>\n",
       "      <th>Age</th>\n",
       "      <th>Annual Income</th>\n",
       "    </tr>\n",
       "  </thead>\n",
       "  <tbody>\n",
       "    <tr>\n",
       "      <th>0</th>\n",
       "      <td>50</td>\n",
       "      <td>0</td>\n",
       "    </tr>\n",
       "    <tr>\n",
       "      <th>1</th>\n",
       "      <td>38</td>\n",
       "      <td>0</td>\n",
       "    </tr>\n",
       "    <tr>\n",
       "      <th>2</th>\n",
       "      <td>53</td>\n",
       "      <td>0</td>\n",
       "    </tr>\n",
       "    <tr>\n",
       "      <th>3</th>\n",
       "      <td>28</td>\n",
       "      <td>0</td>\n",
       "    </tr>\n",
       "    <tr>\n",
       "      <th>4</th>\n",
       "      <td>37</td>\n",
       "      <td>0</td>\n",
       "    </tr>\n",
       "    <tr>\n",
       "      <th>5</th>\n",
       "      <td>49</td>\n",
       "      <td>0</td>\n",
       "    </tr>\n",
       "    <tr>\n",
       "      <th>6</th>\n",
       "      <td>52</td>\n",
       "      <td>0</td>\n",
       "    </tr>\n",
       "    <tr>\n",
       "      <th>7</th>\n",
       "      <td>31</td>\n",
       "      <td>0</td>\n",
       "    </tr>\n",
       "    <tr>\n",
       "      <th>8</th>\n",
       "      <td>42</td>\n",
       "      <td>0</td>\n",
       "    </tr>\n",
       "    <tr>\n",
       "      <th>9</th>\n",
       "      <td>37</td>\n",
       "      <td>0</td>\n",
       "    </tr>\n",
       "  </tbody>\n",
       "</table>\n",
       "</div>"
      ],
      "text/plain": [
       "   Age  Annual Income\n",
       "0   50              0\n",
       "1   38              0\n",
       "2   53              0\n",
       "3   28              0\n",
       "4   37              0\n",
       "5   49              0\n",
       "6   52              0\n",
       "7   31              0\n",
       "8   42              0\n",
       "9   37              0"
      ]
     },
     "execution_count": 89,
     "metadata": {},
     "output_type": "execute_result"
    }
   ],
   "source": [
    "ids = X['Workclass']\n",
    "predictions = grid_search.predict(dataset.drop('Age', axis=1))\n",
    "\n",
    "\n",
    "output = pd.DataFrame({ 'Age' : ids, 'Annual Income': predictions })\n",
    "# output.to_csv('titanic-predictions.csv', index = False)\n",
    "output.head(10)"
   ]
  },
  {
   "cell_type": "markdown",
   "metadata": {},
   "source": [
    "### As we can see, the model predicts succefully"
   ]
  },
  {
   "cell_type": "markdown",
   "metadata": {},
   "source": [
    "# Decision Tree Algorithm\n",
    "\n",
    "### Exercise 16: Applying the Decision Tree Algorithm "
   ]
  },
  {
   "cell_type": "code",
   "execution_count": 44,
   "metadata": {
    "jupyter": {
     "source_hidden": true
    }
   },
   "outputs": [],
   "source": [
    "import pandas as pd\n",
    "data = pd.read_csv(\"fertility_Diagnosis.csv\", header=None)"
   ]
  },
  {
   "cell_type": "code",
   "execution_count": 45,
   "metadata": {
    "jupyter": {
     "source_hidden": true
    }
   },
   "outputs": [],
   "source": [
    "X = data.iloc[:,:9]\n",
    "Y = data.iloc[:,9]"
   ]
  },
  {
   "cell_type": "code",
   "execution_count": 46,
   "metadata": {
    "collapsed": true,
    "jupyter": {
     "outputs_hidden": true,
     "source_hidden": true
    }
   },
   "outputs": [
    {
     "data": {
      "text/plain": [
       "DecisionTreeClassifier()"
      ]
     },
     "execution_count": 46,
     "metadata": {},
     "output_type": "execute_result"
    }
   ],
   "source": [
    "from sklearn.tree import DecisionTreeClassifier\n",
    "model = DecisionTreeClassifier()\n",
    "model.fit(X, Y)"
   ]
  },
  {
   "cell_type": "code",
   "execution_count": 47,
   "metadata": {
    "collapsed": true,
    "jupyter": {
     "outputs_hidden": true,
     "source_hidden": true
    }
   },
   "outputs": [
    {
     "name": "stdout",
     "output_type": "stream",
     "text": [
      "['N']\n"
     ]
    }
   ],
   "source": [
    "pred = model.predict([[-0.33,0.69,0,1,1,0,0.8,0,0.88]])\n",
    "print(pred)"
   ]
  },
  {
   "cell_type": "markdown",
   "metadata": {},
   "source": [
    "# Activity 12: Training a Decision Tree Model for Our Census Income Dataset"
   ]
  },
  {
   "cell_type": "code",
   "execution_count": 194,
   "metadata": {},
   "outputs": [],
   "source": [
    "X = dataset.iloc[:,:9]\n",
    "Y = dataset.iloc[:,9]"
   ]
  },
  {
   "cell_type": "code",
   "execution_count": 195,
   "metadata": {},
   "outputs": [
    {
     "name": "stdout",
     "output_type": "stream",
     "text": [
      "Labels counts in y: [24719  7841]\n",
      "Labels counts in y_train: [22247  7057]\n",
      "Labels counts in y_test: [2472  784]\n"
     ]
    }
   ],
   "source": [
    "from sklearn.model_selection import train_test_split\n",
    "\n",
    "x_train, x_test, y_train, y_test = train_test_split(X, Y, test_size=0.1, random_state=1, stratify=Y)\n",
    "\n",
    "print('Labels counts in y: {}'.format(np.bincount(Y)))\n",
    "print('Labels counts in y_train:', np.bincount(y_train))\n",
    "print('Labels counts in y_test:', np.bincount(y_test))"
   ]
  },
  {
   "cell_type": "code",
   "execution_count": 287,
   "metadata": {},
   "outputs": [
    {
     "data": {
      "text/plain": [
       "DecisionTreeClassifier()"
      ]
     },
     "execution_count": 287,
     "metadata": {},
     "output_type": "execute_result"
    }
   ],
   "source": [
    "from sklearn.tree import DecisionTreeClassifier\n",
    "# Initialize DecisionTreeClassifier class\n",
    "model = DecisionTreeClassifier()\n",
    "# Train the model with X & Y\n",
    "model.fit(X, Y)"
   ]
  },
  {
   "cell_type": "code",
   "execution_count": 288,
   "metadata": {},
   "outputs": [
    {
     "name": "stdout",
     "output_type": "stream",
     "text": [
      "[0]\n"
     ]
    }
   ],
   "source": [
    "pred = model.predict([[39, 6, 13, 4, 0, 2174, 0, 40, 38]])\n",
    "print(pred)"
   ]
  },
  {
   "cell_type": "markdown",
   "metadata": {},
   "source": [
    "# Pipeline & GridSearchCV"
   ]
  },
  {
   "cell_type": "code",
   "execution_count": 289,
   "metadata": {},
   "outputs": [
    {
     "data": {
      "text/plain": [
       "0.971061971061971"
      ]
     },
     "execution_count": 289,
     "metadata": {},
     "output_type": "execute_result"
    }
   ],
   "source": [
    "pipeline = Pipeline([( \"scaler\" , StandardScaler()),\n",
    "                       (\"dt\",DecisionTreeClassifier())])\n",
    "\n",
    "pipeline.fit(x_train, y_train)\n",
    "pipeline.score(x_train, y_train)"
   ]
  },
  {
   "cell_type": "code",
   "execution_count": 290,
   "metadata": {},
   "outputs": [
    {
     "name": "stdout",
     "output_type": "stream",
     "text": [
      "dict_keys(['memory', 'steps', 'verbose', 'scaler', 'dt', 'scaler__copy', 'scaler__with_mean', 'scaler__with_std', 'dt__ccp_alpha', 'dt__class_weight', 'dt__criterion', 'dt__max_depth', 'dt__max_features', 'dt__max_leaf_nodes', 'dt__min_impurity_decrease', 'dt__min_impurity_split', 'dt__min_samples_leaf', 'dt__min_samples_split', 'dt__min_weight_fraction_leaf', 'dt__presort', 'dt__random_state', 'dt__splitter'])\n"
     ]
    },
    {
     "data": {
      "text/plain": [
       "GridSearchCV(cv=10,\n",
       "             estimator=Pipeline(steps=[('scaler', StandardScaler()),\n",
       "                                       ('dt', DecisionTreeClassifier())]),\n",
       "             n_jobs=-1,\n",
       "             param_grid={'dt__class_weight': ['balanced', None],\n",
       "                         'dt__criterion': ['gini', 'entropy'],\n",
       "                         'dt__max_features': ['auto', 'sqrt', 'log2', None],\n",
       "                         'dt__splitter': ['best', 'random']})"
      ]
     },
     "execution_count": 290,
     "metadata": {},
     "output_type": "execute_result"
    }
   ],
   "source": [
    "from sklearn.model_selection import GridSearchCV\n",
    "\n",
    "print(pipeline.get_params().keys())\n",
    "\n",
    "parameters = {'dt__class_weight':([\"balanced\", None]),\n",
    "              'dt__criterion':([\"gini\", \"entropy\"]),\n",
    "              'dt__max_features':([\"auto\", \"sqrt\", \"log2\", None]),\n",
    "              'dt__splitter':([\"best\",\"random\"])}\n",
    "\n",
    "grid_search = GridSearchCV(pipeline, parameters, cv = 10, n_jobs=-1)  \n",
    "\n",
    "model_classifier.get_params().keys()\n",
    "grid_search.fit(x_train, y_train)"
   ]
  },
  {
   "cell_type": "code",
   "execution_count": 291,
   "metadata": {},
   "outputs": [
    {
     "data": {
      "text/plain": [
       "{'dt__class_weight': None,\n",
       " 'dt__criterion': 'entropy',\n",
       " 'dt__max_features': 'sqrt',\n",
       " 'dt__splitter': 'best'}"
      ]
     },
     "execution_count": 291,
     "metadata": {},
     "output_type": "execute_result"
    }
   ],
   "source": [
    "grid_search.best_params_"
   ]
  },
  {
   "cell_type": "code",
   "execution_count": 292,
   "metadata": {},
   "outputs": [
    {
     "data": {
      "text/plain": [
       "0.8218334666615432"
      ]
     },
     "execution_count": 292,
     "metadata": {},
     "output_type": "execute_result"
    }
   ],
   "source": [
    "grid_search.best_score_"
   ]
  },
  {
   "cell_type": "code",
   "execution_count": 293,
   "metadata": {},
   "outputs": [
    {
     "name": "stdout",
     "output_type": "stream",
     "text": [
      "[1]\n"
     ]
    }
   ],
   "source": [
    "pred = grid_search.predict([[-0.33,0.69,0,1,1,0,0.8,0,0.88]])\n",
    "print(pred)"
   ]
  },
  {
   "cell_type": "markdown",
   "metadata": {},
   "source": [
    "### This time, output is 1, meaning the person is likely to have income of over 50K"
   ]
  },
  {
   "cell_type": "code",
   "execution_count": 366,
   "metadata": {},
   "outputs": [
    {
     "name": "stdout",
     "output_type": "stream",
     "text": [
      "[[' United-States', 0], [' Cuba', 1], [' Jamaica', 2], [' India', 3], [nan, 4], [' Mexico', 5], [' South', 6], [' Puerto-Rico', 7], [' Honduras', 8], [' England', 9], [' Canada', 10], [' Germany', 11], [' Iran', 12], [' Philippines', 13], [' Italy', 14], [' Poland', 15], [' Columbia', 16], [' Cambodia', 17], [' Thailand', 18], [' Ecuador', 19], [' Laos', 20], [' Taiwan', 21], [' Haiti', 22], [' Portugal', 23], [' Dominican-Republic', 24], [' El-Salvador', 25], [' France', 26], [' Guatemala', 27], [' China', 28], [' Japan', 29], [' Yugoslavia', 30], [' Peru', 31], [' Outlying-US(Guam-USVI-etc)', 32], [' Scotland', 33], [' Trinadad&Tobago', 34], [' Greece', 35], [' Nicaragua', 36], [' Vietnam', 37], [' Hong', 38], [' Ireland', 39], [' Hungary', 40], [' Holand-Netherlands', 41], [' United-States', 0], [' Cuba', 1], [' Jamaica', 2], [' India', 3], [nan, 4], [' Mexico', 5], [' South', 6], [' Puerto-Rico', 7], [' Honduras', 8], [' England', 9], [' Canada', 10], [' Germany', 11], [' Iran', 12], [' Philippines', 13], [' Italy', 14], [' Poland', 15], [' Columbia', 16], [' Cambodia', 17], [' Thailand', 18], [' Ecuador', 19], [' Laos', 20], [' Taiwan', 21], [' Haiti', 22], [' Portugal', 23], [' Dominican-Republic', 24], [' El-Salvador', 25], [' France', 26], [' Guatemala', 27], [' China', 28], [' Japan', 29], [' Yugoslavia', 30], [' Peru', 31], [' Outlying-US(Guam-USVI-etc)', 32], [' Scotland', 33], [' Trinadad&Tobago', 34], [' Greece', 35], [' Nicaragua', 36], [' Vietnam', 37], [' Hong', 38], [' Ireland', 39], [' Hungary', 40], [' Holand-Netherlands', 41], [' United-States', 0], [' Cuba', 1], [' Jamaica', 2], [' India', 3], [nan, 4], [' Mexico', 5], [' South', 6], [' Puerto-Rico', 7], [' Honduras', 8], [' England', 9], [' Canada', 10], [' Germany', 11], [' Iran', 12], [' Philippines', 13], [' Italy', 14], [' Poland', 15], [' Columbia', 16], [' Cambodia', 17], [' Thailand', 18], [' Ecuador', 19], [' Laos', 20], [' Taiwan', 21], [' Haiti', 22], [' Portugal', 23], [' Dominican-Republic', 24], [' El-Salvador', 25], [' France', 26], [' Guatemala', 27], [' China', 28], [' Japan', 29], [' Yugoslavia', 30], [' Peru', 31], [' Outlying-US(Guam-USVI-etc)', 32], [' Scotland', 33], [' Trinadad&Tobago', 34], [' Greece', 35], [' Nicaragua', 36], [' Vietnam', 37], [' Hong', 38], [' Ireland', 39], [' Hungary', 40], [' Holand-Netherlands', 41]]\n",
      "[' United-States', ' Cuba', ' Jamaica', ' India', nan, ' Mexico', ' South', ' Puerto-Rico', ' Honduras', ' England', ' Canada', ' Germany', ' Iran', ' Philippines', ' Italy', ' Poland', ' Columbia', ' Cambodia', ' Thailand', ' Ecuador', ' Laos', ' Taiwan', ' Haiti', ' Portugal', ' Dominican-Republic', ' El-Salvador', ' France', ' Guatemala', ' China', ' Japan', ' Yugoslavia', ' Peru', ' Outlying-US(Guam-USVI-etc)', ' Scotland', ' Trinadad&Tobago', ' Greece', ' Nicaragua', ' Vietnam', ' Hong', ' Ireland', ' Hungary', ' Holand-Netherlands', ' United-States', ' Cuba', ' Jamaica', ' India', nan, ' Mexico', ' South', ' Puerto-Rico', ' Honduras', ' England', ' Canada', ' Germany', ' Iran', ' Philippines', ' Italy', ' Poland', ' Columbia', ' Cambodia', ' Thailand', ' Ecuador', ' Laos', ' Taiwan', ' Haiti', ' Portugal', ' Dominican-Republic', ' El-Salvador', ' France', ' Guatemala', ' China', ' Japan', ' Yugoslavia', ' Peru', ' Outlying-US(Guam-USVI-etc)', ' Scotland', ' Trinadad&Tobago', ' Greece', ' Nicaragua', ' Vietnam', ' Hong', ' Ireland', ' Hungary', ' Holand-Netherlands', ' United-States', ' Cuba', ' Jamaica', ' India', nan, ' Mexico', ' South', ' Puerto-Rico', ' Honduras', ' England', ' Canada', ' Germany', ' Iran', ' Philippines', ' Italy', ' Poland', ' Columbia', ' Cambodia', ' Thailand', ' Ecuador', ' Laos', ' Taiwan', ' Haiti', ' Portugal', ' Dominican-Republic', ' El-Salvador', ' France', ' Guatemala', ' China', ' Japan', ' Yugoslavia', ' Peru', ' Outlying-US(Guam-USVI-etc)', ' Scotland', ' Trinadad&Tobago', ' Greece', ' Nicaragua', ' Vietnam', ' Hong', ' Ireland', ' Hungary', ' Holand-Netherlands']\n",
      "[0, 1, 2, 3, 4, 5, 6, 7, 8, 9, 10, 11, 12, 13, 14, 15, 16, 17, 18, 19, 20, 21, 22, 23, 24, 25, 26, 27, 28, 29, 30, 31, 32, 33, 34, 35, 36, 37, 38, 39, 40, 41, 0, 1, 2, 3, 4, 5, 6, 7, 8, 9, 10, 11, 12, 13, 14, 15, 16, 17, 18, 19, 20, 21, 22, 23, 24, 25, 26, 27, 28, 29, 30, 31, 32, 33, 34, 35, 36, 37, 38, 39, 40, 41, 0, 1, 2, 3, 4, 5, 6, 7, 8, 9, 10, 11, 12, 13, 14, 15, 16, 17, 18, 19, 20, 21, 22, 23, 24, 25, 26, 27, 28, 29, 30, 31, 32, 33, 34, 35, 36, 37, 38, 39, 40, 41]\n"
     ]
    },
    {
     "data": {
      "text/html": [
       "<div>\n",
       "<style scoped>\n",
       "    .dataframe tbody tr th:only-of-type {\n",
       "        vertical-align: middle;\n",
       "    }\n",
       "\n",
       "    .dataframe tbody tr th {\n",
       "        vertical-align: top;\n",
       "    }\n",
       "\n",
       "    .dataframe thead th {\n",
       "        text-align: right;\n",
       "    }\n",
       "</style>\n",
       "<table border=\"1\" class=\"dataframe\">\n",
       "  <thead>\n",
       "    <tr style=\"text-align: right;\">\n",
       "      <th></th>\n",
       "      <th>Native-country</th>\n",
       "      <th>Annual Income</th>\n",
       "    </tr>\n",
       "  </thead>\n",
       "  <tbody>\n",
       "    <tr>\n",
       "      <th>0</th>\n",
       "      <td>Mexico</td>\n",
       "      <td>0</td>\n",
       "    </tr>\n",
       "    <tr>\n",
       "      <th>1</th>\n",
       "      <td>Mexico</td>\n",
       "      <td>0</td>\n",
       "    </tr>\n",
       "    <tr>\n",
       "      <th>2</th>\n",
       "      <td>Mexico</td>\n",
       "      <td>1</td>\n",
       "    </tr>\n",
       "    <tr>\n",
       "      <th>3</th>\n",
       "      <td>Germany</td>\n",
       "      <td>0</td>\n",
       "    </tr>\n",
       "    <tr>\n",
       "      <th>4</th>\n",
       "      <td>Mexico</td>\n",
       "      <td>1</td>\n",
       "    </tr>\n",
       "    <tr>\n",
       "      <th>5</th>\n",
       "      <td>Scotland</td>\n",
       "      <td>0</td>\n",
       "    </tr>\n",
       "    <tr>\n",
       "      <th>6</th>\n",
       "      <td>Mexico</td>\n",
       "      <td>1</td>\n",
       "    </tr>\n",
       "    <tr>\n",
       "      <th>7</th>\n",
       "      <td>Mexico</td>\n",
       "      <td>1</td>\n",
       "    </tr>\n",
       "    <tr>\n",
       "      <th>8</th>\n",
       "      <td>Mexico</td>\n",
       "      <td>1</td>\n",
       "    </tr>\n",
       "    <tr>\n",
       "      <th>9</th>\n",
       "      <td>Mexico</td>\n",
       "      <td>0</td>\n",
       "    </tr>\n",
       "  </tbody>\n",
       "</table>\n",
       "</div>"
      ],
      "text/plain": [
       "  Native-country  Annual Income\n",
       "0         Mexico              0\n",
       "1         Mexico              0\n",
       "2         Mexico              1\n",
       "3        Germany              0\n",
       "4         Mexico              1\n",
       "5       Scotland              0\n",
       "6         Mexico              1\n",
       "7         Mexico              1\n",
       "8         Mexico              1\n",
       "9         Mexico              0"
      ]
     },
     "execution_count": 366,
     "metadata": {},
     "output_type": "execute_result"
    }
   ],
   "source": [
    "ids = X['Native-country']\n",
    "predictions = model.predict(dataset.drop('Native-country', axis=1))\n",
    "\n",
    "\n",
    "output = pd.DataFrame({ 'Native-country' : ids, 'Annual Income': predictions })\n",
    "\n",
    "lst = []\n",
    "test = []\n",
    "test_num = []\n",
    "for i in native_country:\n",
    "    lst.append(list(i))\n",
    "print(lst)\n",
    "\n",
    "for h in lst:\n",
    "    test.append(h[0])\n",
    "    test_num.append(h[1])\n",
    "print(test)\n",
    "print(test_num)\n",
    "\n",
    "output['Native-country'] = output['Native-country'].replace([e for e in set(test_num)], [f for f in set(test)])\n",
    "\n",
    "output.head(10)"
   ]
  },
  {
   "cell_type": "markdown",
   "metadata": {},
   "source": [
    "### Exercise 17: Applying the SVM Algorithm "
   ]
  },
  {
   "cell_type": "code",
   "execution_count": 55,
   "metadata": {
    "jupyter": {
     "source_hidden": true
    }
   },
   "outputs": [],
   "source": [
    "import pandas as pd\n",
    "data = pd.read_csv(\"fertility_Diagnosis.csv\", header=None)"
   ]
  },
  {
   "cell_type": "code",
   "execution_count": 56,
   "metadata": {
    "jupyter": {
     "source_hidden": true
    }
   },
   "outputs": [],
   "source": [
    "X = data.iloc[:,:9]\n",
    "Y = data.iloc[:,9]"
   ]
  },
  {
   "cell_type": "code",
   "execution_count": 57,
   "metadata": {
    "collapsed": true,
    "jupyter": {
     "outputs_hidden": true,
     "source_hidden": true
    }
   },
   "outputs": [
    {
     "data": {
      "text/plain": [
       "SVC()"
      ]
     },
     "execution_count": 57,
     "metadata": {},
     "output_type": "execute_result"
    }
   ],
   "source": [
    "from sklearn.svm import SVC\n",
    "model = SVC()\n",
    "model.fit(X, Y)"
   ]
  },
  {
   "cell_type": "code",
   "execution_count": 58,
   "metadata": {
    "collapsed": true,
    "jupyter": {
     "outputs_hidden": true,
     "source_hidden": true
    }
   },
   "outputs": [
    {
     "name": "stdout",
     "output_type": "stream",
     "text": [
      "['N']\n"
     ]
    }
   ],
   "source": [
    "pred = model.predict([[-0.33,0.69,0,1,1,0,0.8,0,0.88]])\n",
    "print(pred)"
   ]
  },
  {
   "cell_type": "markdown",
   "metadata": {},
   "source": [
    "# Activity 13: Training an SVM Model for Our Census Income Dataset"
   ]
  },
  {
   "cell_type": "code",
   "execution_count": 209,
   "metadata": {
    "collapsed": true,
    "jupyter": {
     "outputs_hidden": true
    }
   },
   "outputs": [
    {
     "name": "stdout",
     "output_type": "stream",
     "text": [
      "       Age  Workclass  Education-num  Marital Status  Occupation  \\\n",
      "0       50          5             13               2           3   \n",
      "1       38          3              9               0           5   \n",
      "2       53          3              7               2           5   \n",
      "3       28          3             13               2           9   \n",
      "4       37          3             14               2           3   \n",
      "...    ...        ...            ...             ...         ...   \n",
      "32555   27          3             12               2          12   \n",
      "32556   40          3              9               2           6   \n",
      "32557   58          3              9               6           0   \n",
      "32558   22          3              9               4           0   \n",
      "32559   52          4              9               2           3   \n",
      "\n",
      "       Capital-gain  Capital-loss  Hours-per-week  Native-country  \n",
      "0                 0             0              13              38  \n",
      "1                 0             0              40              38  \n",
      "2                 0             0              40              38  \n",
      "3                 0             0              40               4  \n",
      "4                 0             0              40              38  \n",
      "...             ...           ...             ...             ...  \n",
      "32555             0             0              38              38  \n",
      "32556             0             0              40              38  \n",
      "32557             0             0              40              38  \n",
      "32558             0             0              20              38  \n",
      "32559         15024             0              40              38  \n",
      "\n",
      "[32560 rows x 9 columns]\n",
      "0        0\n",
      "1        0\n",
      "2        0\n",
      "3        0\n",
      "4        0\n",
      "        ..\n",
      "32555    0\n",
      "32556    1\n",
      "32557    0\n",
      "32558    0\n",
      "32559    1\n",
      "Name: Annual Income, Length: 32560, dtype: int64\n"
     ]
    }
   ],
   "source": [
    "X = dataset.iloc[:,:9]\n",
    "Y = dataset.iloc[:,9]\n",
    "\n",
    "print(X)\n",
    "print(Y)"
   ]
  },
  {
   "cell_type": "code",
   "execution_count": 210,
   "metadata": {},
   "outputs": [
    {
     "name": "stdout",
     "output_type": "stream",
     "text": [
      "Labels counts in y: [24719  7841]\n",
      "Labels counts in y_train: [22247  7057]\n",
      "Labels counts in y_test: [2472  784]\n"
     ]
    }
   ],
   "source": [
    "from sklearn.model_selection import train_test_split\n",
    "\n",
    "x_train, x_test, y_train, y_test = train_test_split(X, Y, test_size=0.1, random_state=1, stratify=Y)\n",
    "\n",
    "print('Labels counts in y: {}'.format(np.bincount(Y)))\n",
    "print('Labels counts in y_train:', np.bincount(y_train))\n",
    "print('Labels counts in y_test:', np.bincount(y_test))"
   ]
  },
  {
   "cell_type": "code",
   "execution_count": 211,
   "metadata": {},
   "outputs": [
    {
     "name": "stdout",
     "output_type": "stream",
     "text": [
      "Time:  11.844985008239746\n"
     ]
    }
   ],
   "source": [
    "from sklearn.svm import SVC\n",
    "import time\n",
    "\n",
    "start_time = time.time()\n",
    "\n",
    "# Initialize Support Vector Machine\n",
    "model = SVC()\n",
    "# Train the model\n",
    "model.fit(X, Y)\n",
    "\n",
    "print(\"Time: \", time.time() - start_time)"
   ]
  },
  {
   "cell_type": "markdown",
   "metadata": {},
   "source": [
    "I had to check the time with this one, because it took considerably longer than the other methods, which were under a second"
   ]
  },
  {
   "cell_type": "code",
   "execution_count": 212,
   "metadata": {},
   "outputs": [
    {
     "name": "stdout",
     "output_type": "stream",
     "text": [
      "[0]\n"
     ]
    }
   ],
   "source": [
    "pred = model.predict([[39, 6, 13, 4, 0, 2174, 0, 40, 38]])\n",
    "print(pred)"
   ]
  },
  {
   "cell_type": "markdown",
   "metadata": {},
   "source": [
    "# Pipeline & GridSearchCV"
   ]
  },
  {
   "cell_type": "code",
   "execution_count": 269,
   "metadata": {},
   "outputs": [
    {
     "data": {
      "text/plain": [
       "0.8523068523068523"
      ]
     },
     "execution_count": 269,
     "metadata": {},
     "output_type": "execute_result"
    }
   ],
   "source": [
    "pipeline = Pipeline([( \"scaler\" , StandardScaler()),\n",
    "                       (\"svc\",SVC())])\n",
    "\n",
    "pipeline.fit(x_train, y_train)\n",
    "pipeline.score(x_train, y_train)"
   ]
  },
  {
   "cell_type": "code",
   "execution_count": 271,
   "metadata": {},
   "outputs": [
    {
     "name": "stdout",
     "output_type": "stream",
     "text": [
      "dict_keys(['memory', 'steps', 'verbose', 'scaler', 'svc', 'scaler__copy', 'scaler__with_mean', 'scaler__with_std', 'svc__C', 'svc__break_ties', 'svc__cache_size', 'svc__class_weight', 'svc__coef0', 'svc__decision_function_shape', 'svc__degree', 'svc__gamma', 'svc__kernel', 'svc__max_iter', 'svc__probability', 'svc__random_state', 'svc__shrinking', 'svc__tol', 'svc__verbose'])\n"
     ]
    },
    {
     "data": {
      "text/plain": [
       "GridSearchCV(cv=10,\n",
       "             estimator=Pipeline(steps=[('scaler', StandardScaler()),\n",
       "                                       ('svc', SVC())]),\n",
       "             n_jobs=-1,\n",
       "             param_grid={'svc__class_weight': ['balanced', None],\n",
       "                         'svc__decision_function_shape': ['ovo', 'ovr'],\n",
       "                         'svc__gamma': ['scale', 'auto'],\n",
       "                         'svc__kernel': ['linear', 'poly', 'rbf', 'sigmoid',\n",
       "                                         'precomputed']})"
      ]
     },
     "execution_count": 271,
     "metadata": {},
     "output_type": "execute_result"
    }
   ],
   "source": [
    "from sklearn.model_selection import GridSearchCV\n",
    "\n",
    "print(pipeline.get_params().keys())\n",
    "\n",
    "parameters = {'svc__class_weight':([\"balanced\",None]),\n",
    "              'svc__decision_function_shape':([\"ovo\",\"ovr\"]),\n",
    "              'svc__gamma':([\"scale\",\"auto\"]),\n",
    "              'svc__kernel':([\"linear\", \"poly\", \"rbf\", \"sigmoid\", \"precomputed\"])}\n",
    "\n",
    "\n",
    "grid_search = GridSearchCV(pipeline, parameters, cv = 10, n_jobs=-1) \n",
    "\n",
    "model_classifier.get_params().keys()\n",
    "grid_search.fit(x_train, y_train)"
   ]
  },
  {
   "cell_type": "code",
   "execution_count": 282,
   "metadata": {},
   "outputs": [
    {
     "data": {
      "text/plain": [
       "{'svc__class_weight': None,\n",
       " 'svc__decision_function_shape': 'ovo',\n",
       " 'svc__gamma': 'scale',\n",
       " 'svc__kernel': 'rbf'}"
      ]
     },
     "execution_count": 282,
     "metadata": {},
     "output_type": "execute_result"
    }
   ],
   "source": [
    "grid_search.best_params_"
   ]
  },
  {
   "cell_type": "code",
   "execution_count": 283,
   "metadata": {},
   "outputs": [
    {
     "data": {
      "text/plain": [
       "0.8481093594074405"
      ]
     },
     "execution_count": 283,
     "metadata": {},
     "output_type": "execute_result"
    }
   ],
   "source": [
    "grid_search .best_score_"
   ]
  },
  {
   "cell_type": "code",
   "execution_count": 286,
   "metadata": {},
   "outputs": [
    {
     "name": "stdout",
     "output_type": "stream",
     "text": [
      "[0]\n"
     ]
    }
   ],
   "source": [
    "pred = grid_search.predict([[-0.33,0.69,0,1,1,0,0.8,0,0.88]])\n",
    "print(pred)"
   ]
  },
  {
   "cell_type": "code",
   "execution_count": 285,
   "metadata": {},
   "outputs": [
    {
     "name": "stdout",
     "output_type": "stream",
     "text": [
      "[[' Exec-managerial', 0], [' Handlers-cleaners', 1], [' Prof-specialty', 2], [' Other-service', 3], [' Adm-clerical', 4], [' Sales', 5], [' Craft-repair', 6], [' Transport-moving', 7], [' Farming-fishing', 8], [' Machine-op-inspct', 9], [' Tech-support', 10], [nan, 11], [' Protective-serv', 12], [' Armed-Forces', 13], [' Priv-house-serv', 14], [' Exec-managerial', 0], [' Handlers-cleaners', 1], [' Prof-specialty', 2], [' Other-service', 3], [' Adm-clerical', 4], [' Sales', 5], [' Craft-repair', 6], [' Transport-moving', 7], [' Farming-fishing', 8], [' Machine-op-inspct', 9], [' Tech-support', 10], [nan, 11], [' Protective-serv', 12], [' Armed-Forces', 13], [' Priv-house-serv', 14], [' Exec-managerial', 0], [' Handlers-cleaners', 1], [' Prof-specialty', 2], [' Other-service', 3], [' Adm-clerical', 4], [' Sales', 5], [' Craft-repair', 6], [' Transport-moving', 7], [' Farming-fishing', 8], [' Machine-op-inspct', 9], [' Tech-support', 10], [nan, 11], [' Protective-serv', 12], [' Armed-Forces', 13], [' Priv-house-serv', 14]]\n",
      "[' Exec-managerial', ' Handlers-cleaners', ' Prof-specialty', ' Other-service', ' Adm-clerical', ' Sales', ' Craft-repair', ' Transport-moving', ' Farming-fishing', ' Machine-op-inspct', ' Tech-support', nan, ' Protective-serv', ' Armed-Forces', ' Priv-house-serv', ' Exec-managerial', ' Handlers-cleaners', ' Prof-specialty', ' Other-service', ' Adm-clerical', ' Sales', ' Craft-repair', ' Transport-moving', ' Farming-fishing', ' Machine-op-inspct', ' Tech-support', nan, ' Protective-serv', ' Armed-Forces', ' Priv-house-serv', ' Exec-managerial', ' Handlers-cleaners', ' Prof-specialty', ' Other-service', ' Adm-clerical', ' Sales', ' Craft-repair', ' Transport-moving', ' Farming-fishing', ' Machine-op-inspct', ' Tech-support', nan, ' Protective-serv', ' Armed-Forces', ' Priv-house-serv']\n",
      "[0, 1, 2, 3, 4, 5, 6, 7, 8, 9, 10, 11, 12, 13, 14, 0, 1, 2, 3, 4, 5, 6, 7, 8, 9, 10, 11, 12, 13, 14, 0, 1, 2, 3, 4, 5, 6, 7, 8, 9, 10, 11, 12, 13, 14]\n"
     ]
    },
    {
     "data": {
      "text/html": [
       "<div>\n",
       "<style scoped>\n",
       "    .dataframe tbody tr th:only-of-type {\n",
       "        vertical-align: middle;\n",
       "    }\n",
       "\n",
       "    .dataframe tbody tr th {\n",
       "        vertical-align: top;\n",
       "    }\n",
       "\n",
       "    .dataframe thead th {\n",
       "        text-align: right;\n",
       "    }\n",
       "</style>\n",
       "<table border=\"1\" class=\"dataframe\">\n",
       "  <thead>\n",
       "    <tr style=\"text-align: right;\">\n",
       "      <th></th>\n",
       "      <th>Occupation</th>\n",
       "      <th>Annual Income</th>\n",
       "    </tr>\n",
       "  </thead>\n",
       "  <tbody>\n",
       "    <tr>\n",
       "      <th>0</th>\n",
       "      <td>Armed-Forces</td>\n",
       "      <td>0</td>\n",
       "    </tr>\n",
       "    <tr>\n",
       "      <th>1</th>\n",
       "      <td>Exec-managerial</td>\n",
       "      <td>0</td>\n",
       "    </tr>\n",
       "    <tr>\n",
       "      <th>2</th>\n",
       "      <td>Exec-managerial</td>\n",
       "      <td>0</td>\n",
       "    </tr>\n",
       "    <tr>\n",
       "      <th>3</th>\n",
       "      <td>Adm-clerical</td>\n",
       "      <td>0</td>\n",
       "    </tr>\n",
       "    <tr>\n",
       "      <th>4</th>\n",
       "      <td>Armed-Forces</td>\n",
       "      <td>0</td>\n",
       "    </tr>\n",
       "    <tr>\n",
       "      <th>5</th>\n",
       "      <td>Machine-op-inspct</td>\n",
       "      <td>0</td>\n",
       "    </tr>\n",
       "    <tr>\n",
       "      <th>6</th>\n",
       "      <td>Armed-Forces</td>\n",
       "      <td>0</td>\n",
       "    </tr>\n",
       "    <tr>\n",
       "      <th>7</th>\n",
       "      <td>Adm-clerical</td>\n",
       "      <td>0</td>\n",
       "    </tr>\n",
       "    <tr>\n",
       "      <th>8</th>\n",
       "      <td>Armed-Forces</td>\n",
       "      <td>0</td>\n",
       "    </tr>\n",
       "    <tr>\n",
       "      <th>9</th>\n",
       "      <td>Armed-Forces</td>\n",
       "      <td>0</td>\n",
       "    </tr>\n",
       "  </tbody>\n",
       "</table>\n",
       "</div>"
      ],
      "text/plain": [
       "           Occupation  Annual Income\n",
       "0        Armed-Forces              0\n",
       "1     Exec-managerial              0\n",
       "2     Exec-managerial              0\n",
       "3        Adm-clerical              0\n",
       "4        Armed-Forces              0\n",
       "5   Machine-op-inspct              0\n",
       "6        Armed-Forces              0\n",
       "7        Adm-clerical              0\n",
       "8        Armed-Forces              0\n",
       "9        Armed-Forces              0"
      ]
     },
     "execution_count": 285,
     "metadata": {},
     "output_type": "execute_result"
    }
   ],
   "source": [
    "ids = X['Occupation']\n",
    "predictions = model.predict(dataset.drop('Occupation', axis=1))\n",
    "\n",
    "\n",
    "output = pd.DataFrame({ 'Occupation' : ids, 'Annual Income': predictions })\n",
    "\n",
    "lst = []\n",
    "test = []\n",
    "test_num = []\n",
    "for i in occupation:\n",
    "    lst.append(list(i))\n",
    "print(lst)\n",
    "\n",
    "for h in lst:\n",
    "    test.append(h[0])\n",
    "    test_num.append(h[1])\n",
    "print(test)\n",
    "print(test_num)\n",
    "\n",
    "output['Occupation'] = output['Occupation'].replace([e for e in set(test_num)], [f for f in set(test)])\n",
    "\n",
    "output.head(10)"
   ]
  },
  {
   "cell_type": "markdown",
   "metadata": {},
   "source": [
    "### So a person who has an annual income equal or under 50K, works in the Armed-Forces"
   ]
  },
  {
   "cell_type": "markdown",
   "metadata": {},
   "source": [
    "---\n",
    "\n",
    "### Garbage:"
   ]
  },
  {
   "cell_type": "code",
   "execution_count": 254,
   "metadata": {
    "jupyter": {
     "source_hidden": true
    }
   },
   "outputs": [],
   "source": [
    "from matplotlib.colors import ListedColormap\n",
    "import matplotlib.pyplot as plt\n",
    "\n",
    "def plot_decision_regions(X, y, classifier, test_idx=None,\n",
    "                          resolution=0.02):\n",
    "    # setup marker generator and color map\n",
    "    markers = ('s', 'x', 'o', '^', 'v')\n",
    "    colors = ('red', 'blue', 'lightgreen', 'gray', 'cyan')\n",
    "    cmap = ListedColormap(colors[:len(np.unique(y))])\n",
    "    \n",
    "    for idx, cl in enumerate(np.unique(y)):\n",
    "        plt.scatter(x=X[y == cl, 0], y=X[y == cl, 1],\n",
    "                    alpha=0.8, c=colors[idx],\n",
    "                    marker=markers[idx], label=cl,\n",
    "                    edgecolor='black')\n",
    "\n",
    "        # highlight test examples with circles\n",
    "        if test_idx:\n",
    "            # plot all examples\n",
    "            X_test, y_test = X[test_idx, :], y[test_idx]\n",
    "\n",
    "            plt.scatter(X_test[:, 0], X_test[:, 1],\n",
    "                        c='', edgecolor='black', alpha=1.0,\n",
    "                        linewidth=1, marker='o',\n",
    "                        s=100, label='test set')"
   ]
  },
  {
   "cell_type": "code",
   "execution_count": 255,
   "metadata": {
    "jupyter": {
     "source_hidden": true
    }
   },
   "outputs": [],
   "source": [
    "from sklearn.preprocessing import StandardScaler\n",
    "sc = StandardScaler()\n",
    "sc.fit(x_train)\n",
    "x_train_std = sc.transform(x_train)\n",
    "x_test_std = sc.transform(x_test)\n",
    "\n",
    "x_combined_std = np.vstack((x_train_std, x_test_std))\n",
    "y_combined = np.hstack((y_train, y_test))"
   ]
  },
  {
   "cell_type": "code",
   "execution_count": 257,
   "metadata": {
    "collapsed": true,
    "jupyter": {
     "outputs_hidden": true,
     "source_hidden": true
    }
   },
   "outputs": [
    {
     "data": {
      "image/png": "[encoded data removed]",
      "text/plain": [
       "<Figure size 432x288 with 1 Axes>"
      ]
     },
     "metadata": {
      "needs_background": "light"
     },
     "output_type": "display_data"
    }
   ],
   "source": [
    "pipeline_order = [('scaler', StandardScaler()), ('gaussian', GaussianNB(var_smoothing=947345884))]\n",
    "pipeline = Pipeline(pipeline_order)\n",
    "  \n",
    "gaussian_classifier_scaled = pipeline.fit(x_train_std, y_train)\n",
    " \n",
    "\n",
    "plot_decision_regions(x_combined_std, y_combined, \n",
    "                          classifier=gaussian_classifier_scaled, test_idx=range(32559,32559))\n",
    "\n",
    "plt.xlabel('>=50K [standardized]')\n",
    "plt.ylabel('<50K [standardized]')\n",
    "plt.legend(loc='upper right')\n",
    "plt.tight_layout()\n",
    "plt.show()"
   ]
  },
  {
   "cell_type": "code",
   "execution_count": 111,
   "metadata": {
    "collapsed": true,
    "jupyter": {
     "outputs_hidden": true,
     "source_hidden": true
    }
   },
   "outputs": [
    {
     "data": {
      "text/html": [
       "<div>\n",
       "<style scoped>\n",
       "    .dataframe tbody tr th:only-of-type {\n",
       "        vertical-align: middle;\n",
       "    }\n",
       "\n",
       "    .dataframe tbody tr th {\n",
       "        vertical-align: top;\n",
       "    }\n",
       "\n",
       "    .dataframe thead th {\n",
       "        text-align: right;\n",
       "    }\n",
       "</style>\n",
       "<table border=\"1\" class=\"dataframe\">\n",
       "  <thead>\n",
       "    <tr style=\"text-align: right;\">\n",
       "      <th></th>\n",
       "      <th>mean_fit_time</th>\n",
       "      <th>std_fit_time</th>\n",
       "      <th>mean_score_time</th>\n",
       "      <th>std_score_time</th>\n",
       "      <th>param_var_smoothing</th>\n",
       "      <th>params</th>\n",
       "      <th>split0_test_score</th>\n",
       "      <th>split1_test_score</th>\n",
       "      <th>split2_test_score</th>\n",
       "      <th>split3_test_score</th>\n",
       "      <th>split4_test_score</th>\n",
       "      <th>split5_test_score</th>\n",
       "      <th>split6_test_score</th>\n",
       "      <th>split7_test_score</th>\n",
       "      <th>split8_test_score</th>\n",
       "      <th>split9_test_score</th>\n",
       "      <th>mean_test_score</th>\n",
       "      <th>std_test_score</th>\n",
       "      <th>rank_test_score</th>\n",
       "    </tr>\n",
       "  </thead>\n",
       "  <tbody>\n",
       "    <tr>\n",
       "      <th>0</th>\n",
       "      <td>0.0110</td>\n",
       "      <td>3.032655e-03</td>\n",
       "      <td>0.002501</td>\n",
       "      <td>9.220566e-04</td>\n",
       "      <td>1000000000</td>\n",
       "      <td>{'var_smoothing': 1000000000}</td>\n",
       "      <td>0.759127</td>\n",
       "      <td>0.759127</td>\n",
       "      <td>0.759127</td>\n",
       "      <td>0.759127</td>\n",
       "      <td>0.759386</td>\n",
       "      <td>0.759386</td>\n",
       "      <td>0.759386</td>\n",
       "      <td>0.759044</td>\n",
       "      <td>0.759044</td>\n",
       "      <td>0.759044</td>\n",
       "      <td>0.75918</td>\n",
       "      <td>0.000139</td>\n",
       "      <td>1</td>\n",
       "    </tr>\n",
       "    <tr>\n",
       "      <th>1</th>\n",
       "      <td>0.0095</td>\n",
       "      <td>4.997036e-04</td>\n",
       "      <td>0.002001</td>\n",
       "      <td>1.018246e-06</td>\n",
       "      <td>1000000000000</td>\n",
       "      <td>{'var_smoothing': 1000000000000}</td>\n",
       "      <td>0.759127</td>\n",
       "      <td>0.759127</td>\n",
       "      <td>0.759127</td>\n",
       "      <td>0.759127</td>\n",
       "      <td>0.759386</td>\n",
       "      <td>0.759386</td>\n",
       "      <td>0.759386</td>\n",
       "      <td>0.759044</td>\n",
       "      <td>0.759044</td>\n",
       "      <td>0.759044</td>\n",
       "      <td>0.75918</td>\n",
       "      <td>0.000139</td>\n",
       "      <td>1</td>\n",
       "    </tr>\n",
       "    <tr>\n",
       "      <th>2</th>\n",
       "      <td>0.0090</td>\n",
       "      <td>4.402682e-07</td>\n",
       "      <td>0.002000</td>\n",
       "      <td>5.336530e-07</td>\n",
       "      <td>800000000</td>\n",
       "      <td>{'var_smoothing': 800000000}</td>\n",
       "      <td>0.759127</td>\n",
       "      <td>0.759127</td>\n",
       "      <td>0.759127</td>\n",
       "      <td>0.759127</td>\n",
       "      <td>0.759386</td>\n",
       "      <td>0.759386</td>\n",
       "      <td>0.759386</td>\n",
       "      <td>0.759044</td>\n",
       "      <td>0.759044</td>\n",
       "      <td>0.759044</td>\n",
       "      <td>0.75918</td>\n",
       "      <td>0.000139</td>\n",
       "      <td>1</td>\n",
       "    </tr>\n",
       "    <tr>\n",
       "      <th>3</th>\n",
       "      <td>0.0090</td>\n",
       "      <td>5.766576e-07</td>\n",
       "      <td>0.001900</td>\n",
       "      <td>2.997884e-04</td>\n",
       "      <td>900000000</td>\n",
       "      <td>{'var_smoothing': 900000000}</td>\n",
       "      <td>0.759127</td>\n",
       "      <td>0.759127</td>\n",
       "      <td>0.759127</td>\n",
       "      <td>0.759127</td>\n",
       "      <td>0.759386</td>\n",
       "      <td>0.759386</td>\n",
       "      <td>0.759386</td>\n",
       "      <td>0.759044</td>\n",
       "      <td>0.759044</td>\n",
       "      <td>0.759044</td>\n",
       "      <td>0.75918</td>\n",
       "      <td>0.000139</td>\n",
       "      <td>1</td>\n",
       "    </tr>\n",
       "    <tr>\n",
       "      <th>4</th>\n",
       "      <td>0.0090</td>\n",
       "      <td>5.786257e-07</td>\n",
       "      <td>0.002000</td>\n",
       "      <td>5.113509e-07</td>\n",
       "      <td>947345884</td>\n",
       "      <td>{'var_smoothing': 947345884}</td>\n",
       "      <td>0.759127</td>\n",
       "      <td>0.759127</td>\n",
       "      <td>0.759127</td>\n",
       "      <td>0.759127</td>\n",
       "      <td>0.759386</td>\n",
       "      <td>0.759386</td>\n",
       "      <td>0.759386</td>\n",
       "      <td>0.759044</td>\n",
       "      <td>0.759044</td>\n",
       "      <td>0.759044</td>\n",
       "      <td>0.75918</td>\n",
       "      <td>0.000139</td>\n",
       "      <td>1</td>\n",
       "    </tr>\n",
       "  </tbody>\n",
       "</table>\n",
       "</div>"
      ],
      "text/plain": [
       "   mean_fit_time  std_fit_time  mean_score_time  std_score_time  \\\n",
       "0         0.0110  3.032655e-03         0.002501    9.220566e-04   \n",
       "1         0.0095  4.997036e-04         0.002001    1.018246e-06   \n",
       "2         0.0090  4.402682e-07         0.002000    5.336530e-07   \n",
       "3         0.0090  5.766576e-07         0.001900    2.997884e-04   \n",
       "4         0.0090  5.786257e-07         0.002000    5.113509e-07   \n",
       "\n",
       "  param_var_smoothing                            params  split0_test_score  \\\n",
       "0          1000000000     {'var_smoothing': 1000000000}           0.759127   \n",
       "1       1000000000000  {'var_smoothing': 1000000000000}           0.759127   \n",
       "2           800000000      {'var_smoothing': 800000000}           0.759127   \n",
       "3           900000000      {'var_smoothing': 900000000}           0.759127   \n",
       "4           947345884      {'var_smoothing': 947345884}           0.759127   \n",
       "\n",
       "   split1_test_score  split2_test_score  split3_test_score  split4_test_score  \\\n",
       "0           0.759127           0.759127           0.759127           0.759386   \n",
       "1           0.759127           0.759127           0.759127           0.759386   \n",
       "2           0.759127           0.759127           0.759127           0.759386   \n",
       "3           0.759127           0.759127           0.759127           0.759386   \n",
       "4           0.759127           0.759127           0.759127           0.759386   \n",
       "\n",
       "   split5_test_score  split6_test_score  split7_test_score  split8_test_score  \\\n",
       "0           0.759386           0.759386           0.759044           0.759044   \n",
       "1           0.759386           0.759386           0.759044           0.759044   \n",
       "2           0.759386           0.759386           0.759044           0.759044   \n",
       "3           0.759386           0.759386           0.759044           0.759044   \n",
       "4           0.759386           0.759386           0.759044           0.759044   \n",
       "\n",
       "   split9_test_score  mean_test_score  std_test_score  rank_test_score  \n",
       "0           0.759044          0.75918        0.000139                1  \n",
       "1           0.759044          0.75918        0.000139                1  \n",
       "2           0.759044          0.75918        0.000139                1  \n",
       "3           0.759044          0.75918        0.000139                1  \n",
       "4           0.759044          0.75918        0.000139                1  "
      ]
     },
     "execution_count": 111,
     "metadata": {},
     "output_type": "execute_result"
    }
   ],
   "source": [
    "knn_scores = pd.DataFrame(grid_search.cv_results_)\n",
    "knn_scores.head(10)"
   ]
  },
  {
   "cell_type": "code",
   "execution_count": 253,
   "metadata": {
    "collapsed": true,
    "jupyter": {
     "outputs_hidden": true,
     "source_hidden": true
    }
   },
   "outputs": [
    {
     "data": {
      "image/png": "[encoded data removed]",
      "text/plain": [
       "<Figure size 2160x360 with 9 Axes>"
      ]
     },
     "metadata": {
      "needs_background": "light"
     },
     "output_type": "display_data"
    }
   ],
   "source": [
    "plt.figure(figsize=(30, 5))\n",
    "features = X.columns\n",
    "\n",
    "for i, col in enumerate(features):\n",
    "    plt.subplot(1, len(features) , i+1)\n",
    "    #x = dataset[col]\n",
    "    y = Y\n",
    "    x = X[col]\n",
    "    plt.scatter(x, y, marker='o')\n",
    "    plt.title(col)\n",
    "    plt.xlabel(col)\n",
    "    plt.ylabel(i)"
   ]
  }
 ],
 "metadata": {
  "kernelspec": {
   "display_name": "Python 3",
   "language": "python",
   "name": "python3"
  },
  "language_info": {
   "codemirror_mode": {
    "name": "ipython",
    "version": 3
   },
   "file_extension": ".py",
   "mimetype": "text/x-python",
   "name": "python",
   "nbconvert_exporter": "python",
   "pygments_lexer": "ipython3",
   "version": "3.8.3"
  }
 },
 "nbformat": 4,
 "nbformat_minor": 4
}
